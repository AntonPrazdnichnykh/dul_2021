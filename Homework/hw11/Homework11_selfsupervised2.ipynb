{
  "nbformat": 4,
  "nbformat_minor": 0,
  "metadata": {
    "colab": {
      "name": "Homework11_selfsupervised2.ipynb",
      "provenance": [],
      "collapsed_sections": [],
      "include_colab_link": true
    },
    "kernelspec": {
      "name": "python3",
      "display_name": "Python 3"
    },
    "language_info": {
      "name": "python"
    },
    "accelerator": "GPU"
  },
  "cells": [
    {
      "cell_type": "markdown",
      "metadata": {
        "id": "view-in-github",
        "colab_type": "text"
      },
      "source": [
        "<a href=\"https://colab.research.google.com/github/AntonPrazdnichnykh/dul_2021/blob/hw11/Homework/hw11/Homework11_selfsupervised2.ipynb\" target=\"_parent\"><img src=\"https://colab.research.google.com/assets/colab-badge.svg\" alt=\"Open In Colab\"/></a>"
      ]
    },
    {
      "cell_type": "code",
      "source": [
        "!if [ -d dul_2021 ]; then rm -Rf dul_2021; fi\n",
        "!git clone https://github.com/GrigoryBartosh/dul_2021\n",
        "!pip install ./dul_2021"
      ],
      "metadata": {
        "colab": {
          "base_uri": "https://localhost:8080/"
        },
        "id": "4dRz5SIFKfZD",
        "outputId": "b99161b9-26b3-48b0-f5a7-67a3ac5bb9a0"
      },
      "execution_count": 1,
      "outputs": [
        {
          "output_type": "stream",
          "name": "stdout",
          "text": [
            "Cloning into 'dul_2021'...\n",
            "remote: Enumerating objects: 384, done.\u001b[K\n",
            "remote: Counting objects: 100% (213/213), done.\u001b[K\n",
            "remote: Compressing objects: 100% (137/137), done.\u001b[K\n",
            "remote: Total 384 (delta 120), reused 100 (delta 69), pack-reused 171\u001b[K\n",
            "Receiving objects: 100% (384/384), 55.95 MiB | 28.82 MiB/s, done.\n",
            "Resolving deltas: 100% (181/181), done.\n",
            "Processing ./dul_2021\n",
            "\u001b[33m  DEPRECATION: A future pip version will change local packages to be built in-place without first copying to a temporary directory. We recommend you use --use-feature=in-tree-build to test your packages with this new behavior before it becomes the default.\n",
            "   pip 21.3 will remove support for this functionality. You can find discussion regarding this at https://github.com/pypa/pip/issues/7555.\u001b[0m\n",
            "Building wheels for collected packages: dul-2021\n",
            "  Building wheel for dul-2021 (setup.py) ... \u001b[?25l\u001b[?25hdone\n",
            "  Created wheel for dul-2021: filename=dul_2021-0.1.0-py3-none-any.whl size=27640 sha256=fafa0a86614132100f8d49595f8607e9e857f06edea966afbe0ae4530cb7ad18\n",
            "  Stored in directory: /tmp/pip-ephem-wheel-cache-03kv3p29/wheels/55/59/29/0fb1c635652157734f4d741f32fc11979149684e83e919de06\n",
            "Successfully built dul-2021\n",
            "Installing collected packages: dul-2021\n",
            "Successfully installed dul-2021-0.1.0\n"
          ]
        }
      ]
    },
    {
      "cell_type": "code",
      "source": [
        "from dul_2021.utils.hw11_utils import *"
      ],
      "metadata": {
        "id": "KjY-iIy5MSZb"
      },
      "execution_count": 1,
      "outputs": []
    },
    {
      "cell_type": "markdown",
      "source": [
        "# Question 1. BYOL\n",
        "\n",
        "Here we will implement [BYOL](https://arxiv.org/abs/2006.07733).\n",
        "\n",
        "* You can combine view, representation, and projection into one network. You can use same architechure as in practice. \n",
        "\n",
        "* Use BatchNorm\n",
        "\n",
        "* As predictor use few linear layers\n",
        "\n",
        "* Dataset comes untransformed, so you need to apply transformations during training by yourself. Use same augmentations as in SimCLR\n",
        "\n",
        "**Hyperparameters**\n",
        "\n",
        "* τ = 0.99 (target update coefficient)\n",
        "* lr = 1e-4\n",
        "* num_epochs = 20\n",
        "* latent dim = 128\n",
        "\n",
        "\n",
        "\n",
        "**You will provide the following deliverables**\n",
        "\n",
        "\n",
        "1. Over the course of training, record loss ber batch.\n",
        "2. A function that encodes a batch of images with your trained model. The function recieves a batch torch tensors on cpu and should return transformed 2d tensor (batch size x laten dim). It will be used to test representation on classification task."
      ],
      "metadata": {
        "id": "t7J5FgOHW6Z-"
      }
    },
    {
      "cell_type": "code",
      "source": [
        "import torch\n",
        "from torch import nn\n",
        "import torch.nn.functional as F\n",
        "from torch.utils.data import Dataset, DataLoader\n",
        "from torch.optim import Adam\n",
        "from torchvision import transforms\n",
        "\n",
        "import numpy as np\n",
        "from copy import deepcopy\n",
        "from tqdm import trange\n",
        "from itertools import chain"
      ],
      "metadata": {
        "id": "_9X5jiKJ4tA1"
      },
      "execution_count": 2,
      "outputs": []
    },
    {
      "cell_type": "code",
      "source": [
        "from math import floor"
      ],
      "metadata": {
        "id": "VyJiuZSW9n9e"
      },
      "execution_count": 3,
      "outputs": []
    },
    {
      "cell_type": "code",
      "source": [
        "device = torch.device('cuda' if torch.cuda.is_available() else 'cpu')"
      ],
      "metadata": {
        "id": "QKiF4AfLCbtV"
      },
      "execution_count": 4,
      "outputs": []
    },
    {
      "cell_type": "code",
      "source": [
        "device"
      ],
      "metadata": {
        "id": "AvEB91Ja6-V5",
        "outputId": "e850f9c5-0299-4a58-d0cd-5c1e3ff34e3c",
        "colab": {
          "base_uri": "https://localhost:8080/"
        }
      },
      "execution_count": 5,
      "outputs": [
        {
          "output_type": "execute_result",
          "data": {
            "text/plain": [
              "device(type='cuda')"
            ]
          },
          "metadata": {},
          "execution_count": 5
        }
      ]
    },
    {
      "cell_type": "code",
      "source": [
        "contrast_transforms = transforms.Compose([transforms.RandomHorizontalFlip(),\n",
        "                                          transforms.RandomResizedCrop(size=28),\n",
        "                                          transforms.Normalize((0.5,), (0.5,))\n",
        "                                         ])"
      ],
      "metadata": {
        "id": "PWIbmT-C5dGN"
      },
      "execution_count": 6,
      "outputs": []
    },
    {
      "cell_type": "code",
      "source": [
        "class Net(nn.Module):\n",
        "    def __init__(self, in_channels, inp_size, out_dim=128, hid_dim_full=128):\n",
        "        super(Net, self).__init__()\n",
        "\n",
        "        self.conv1 = nn.Conv2d(in_channels, 16, 5, padding=2) \n",
        "        self.conv2 = nn.Conv2d(16, 16, 3, padding=1, stride=2)\n",
        "        self.conv3 = nn.Conv2d(16, 32, 5, padding=2)  \n",
        "        self.conv4 = nn.Conv2d(32, 32, 3, padding=1, stride=2)\n",
        "        self.conv5 = nn.Conv2d(32, 32, 1)\n",
        "        self.conv6 = nn.Conv2d(32, 4, 1)\n",
        "        self.bn1 = nn.BatchNorm2d(16)\n",
        "        self.bn2 = nn.BatchNorm2d(16)\n",
        "        self.bn3 = nn.BatchNorm2d(32)\n",
        "        self.bn4 = nn.BatchNorm2d(32)\n",
        "        self.bn5 = nn.BatchNorm2d(32)\n",
        "        self.bn6 = nn.BatchNorm2d(4)\n",
        "\n",
        "        self.conv_to_fc = self.compute_out_shape(inp_size)**2 * 4\n",
        "        self.fc1 = nn.Linear(self.conv_to_fc, hid_dim_full)\n",
        "        self.fc2 = nn.Linear(hid_dim_full, int(hid_dim_full // 2))\n",
        "\n",
        "        self.features = nn.Linear(int(hid_dim_full // 2), out_dim)\n",
        "\n",
        "    @staticmethod\n",
        "    def compute_out_shape(x):\n",
        "      x = floor((x - 1) / 2 + 1)\n",
        "      x = floor((x - 1) / 2 + 1)\n",
        "      return x\n",
        "\n",
        "    def forward(self, x):\n",
        "    \n",
        "        x = F.relu(self.bn1(self.conv1(x)))\n",
        "        x = F.relu(self.bn2(self.conv2(x)))\n",
        "        x = F.relu(self.bn3(self.conv3(x)))\n",
        "        x = F.relu(self.bn4(self.conv4(x)))\n",
        "        x = F.relu(self.bn5(self.conv5(x)))\n",
        "        x = F.relu(self.bn6(self.conv6(x)))\n",
        "\n",
        "        x = x.view(-1, self.conv_to_fc)\n",
        "        x = F.relu(self.fc1(x))\n",
        "        x = F.relu(self.fc2(x))\n",
        "\n",
        "        features = self.features(x)\n",
        "\n",
        "        return features\n"
      ],
      "metadata": {
        "id": "VLI_aVQb4c-F"
      },
      "execution_count": 7,
      "outputs": []
    },
    {
      "cell_type": "code",
      "source": [
        "class MyDataset(Dataset):\n",
        "  def __init__(self, data, transforms, n_views=2):\n",
        "    self.data = data\n",
        "    self.transforms = transforms\n",
        "    self.n_views = n_views\n",
        "\n",
        "  def __getitem__(self, idx):\n",
        "    sample = self.data[idx][0]\n",
        "    return torch.cat([self.transforms(sample) for _ in range(self.n_views)])\n",
        "\n",
        "  def __len__(self):\n",
        "    return len(self.data)"
      ],
      "metadata": {
        "id": "9b08WZBATn9h"
      },
      "execution_count": 8,
      "outputs": []
    },
    {
      "cell_type": "code",
      "source": [
        "class BYOL(nn.Module):\n",
        "  def __init__(self, latent_dim=128, hidden_dim=128, tau=0.99):\n",
        "    super().__init__()\n",
        "    self.enc = Net(1, 28, latent_dim, hidden_dim)\n",
        "    self.mom_enc = Net(1, 28, latent_dim, hidden_dim)\n",
        "    for p1, p2 in zip(self.enc.parameters(), self.mom_enc.parameters()):\n",
        "      p2.data.copy_(p1.data)\n",
        "      p2.requires_grad = False\n",
        "\n",
        "    self.predictor = nn.Sequential(\n",
        "        nn.Linear(latent_dim, 2 * latent_dim),\n",
        "        nn.ReLU(),\n",
        "        nn.Linear(2 * latent_dim, latent_dim)\n",
        "    )\n",
        "    self.tau = tau\n",
        "\n",
        "  def update_momentum_weights(self):\n",
        "    for p1, p2 in zip(self.enc.parameters(), self.mom_enc.parameters()):\n",
        "      p2.data.copy_(self.tau * p2.data + (1 - self.tau) * p1.data)\n",
        "\n",
        "  def loss(self, x):\n",
        "    batch_size = x.size(0)\n",
        "    x_stud, x_teach = x.chunk(2, dim=1)\n",
        "    feats_orig = self.predictor(self.enc(x_stud))\n",
        "    feats_contr = self.mom_enc(x_teach)\n",
        "    loss = 1 - F.cosine_similarity(feats_orig, feats_contr)\n",
        "    return loss.mean()\n",
        "\n",
        "  def fit(self, train_data, batch_size=512, lr=1e-4, num_epochs=20):\n",
        "    train_data = MyDataset(train_data, transforms=contrast_transforms)\n",
        "    dataloader = DataLoader(train_data, batch_size=batch_size, shuffle=True)\n",
        "\n",
        "    optimizer = Adam(chain(self.enc.parameters(), self.predictor.parameters()), lr=lr)\n",
        "\n",
        "    losses = []\n",
        "\n",
        "    for epoch in trange(num_epochs, desc='Training'):\n",
        "      for batch in dataloader:\n",
        "\n",
        "        loss = self.loss(batch.to(device))\n",
        "        optimizer.zero_grad()\n",
        "        loss.backward()\n",
        "        optimizer.step()\n",
        "\n",
        "        self.update_momentum_weights()\n",
        "        \n",
        "        losses.append(loss.item())\n",
        "\n",
        "    return np.array(losses)\n",
        "\n",
        "    \n",
        "  @torch.no_grad()\n",
        "  def encode(self, batch):\n",
        "    self.eval()\n",
        "    out = self.enc(batch.to(device))\n",
        "    self.train()\n",
        "    return out\n"
      ],
      "metadata": {
        "id": "Xh3uTWPB5z1h"
      },
      "execution_count": 9,
      "outputs": []
    },
    {
      "cell_type": "code",
      "source": [
        "def q1(train_data):\n",
        "    \"\"\"\n",
        "    train_data: An (n_train, 1, 28, 28) torchvision dataset of MNIST images with values from -1 to 1\n",
        "\n",
        "    Returns\n",
        "    - a (# of training iterations, ) numpy array  losses on each iteration\n",
        "    - a function that transforms batch of images into their latent representation\n",
        "    \"\"\"\n",
        "    model = BYOL()\n",
        "    model.to(device)\n",
        "    losses = model.fit(train_data)\n",
        "    return losses, model.encode\n"
      ],
      "metadata": {
        "id": "Og9Fv7sV6nrO"
      },
      "execution_count": 10,
      "outputs": []
    },
    {
      "cell_type": "code",
      "source": [
        "# change flag to False if you want only to test your losses w/o accuracy (it takes around 4-5 minutes)\n",
        "q1_results(q1, True)"
      ],
      "metadata": {
        "colab": {
          "base_uri": "https://localhost:8080/",
          "height": 329
        },
        "id": "3Ib0ne2mX80s",
        "outputId": "9ae311d3-ebac-4e4c-8359-550362d57f01"
      },
      "execution_count": 11,
      "outputs": [
        {
          "output_type": "stream",
          "name": "stderr",
          "text": [
            "Training: 100%|██████████| 20/20 [20:43<00:00, 62.18s/it]\n"
          ]
        },
        {
          "output_type": "stream",
          "name": "stdout",
          "text": [
            "mean classification accuracy=0.3722\n"
          ]
        },
        {
          "output_type": "display_data",
          "data": {
            "image/png": "[encoded data removed]",
            "text/plain": [
              "<Figure size 432x288 with 1 Axes>"
            ]
          },
          "metadata": {
            "needs_background": "light"
          }
        }
      ]
    },
    {
      "cell_type": "markdown",
      "source": [
        "# Question 2. Barlow Twins\n",
        "\n",
        "Here we will implement [barlow twins](https://arxiv.org/abs/2103.03230).\n",
        "\n",
        "* You can use same architechure as in practice. \n",
        "\n",
        "* Dataset comes untransformed, so you need to apply transformations during training by yourself. Use same augmentations as in SimCLR\n",
        "\n",
        "**Hyperparameters**\n",
        "\n",
        "* λ = 0.01 \n",
        "* lr = 5e-4\n",
        "* num_epochs = 20\n",
        "* latent dim = 128\n",
        "\n",
        "\n",
        "\n",
        "**You will provide the following deliverables**\n",
        "\n",
        "\n",
        "1. Over the course of training, record loss ber batch.\n",
        "2. A function that encodes a batch of images with your trained model. The function recieves a batch torch tensors on cpu and should return transformed 2d tensor (batch size x laten dim). It will be used to test representation on classification task."
      ],
      "metadata": {
        "id": "hlbaIthyMGab"
      }
    },
    {
      "cell_type": "code",
      "source": [
        "contrast_transforms = transforms.Compose([transforms.RandomHorizontalFlip(),\n",
        "                                          transforms.RandomResizedCrop(size=32),\n",
        "                                          transforms.Normalize((0.5,), (0.5,))\n",
        "                                         ])"
      ],
      "metadata": {
        "id": "QSk2mt29L_hC"
      },
      "execution_count": 12,
      "outputs": []
    },
    {
      "cell_type": "code",
      "source": [
        "class BarlowTwins(nn.Module):\n",
        "  def __init__(self, latent_dim=128, hidden_dim=128, l_off_diag=0.01):\n",
        "    super().__init__()\n",
        "    self.net = Net(3, 32, latent_dim, hidden_dim)\n",
        "    self.latent_dim = latent_dim\n",
        "    self.l_off_diag = l_off_diag\n",
        "\n",
        "  def loss(self, x):\n",
        "    batch_size = x.size(0)\n",
        "    x_a, x_b = x.chunk(2, dim=1)\n",
        "    # print(x_a.shape, x_b.shape)\n",
        "    z_a = self.net(x_a)\n",
        "    z_b = self.net(x_b)\n",
        "\n",
        "    z_a_norm = (z_a - z_a.mean(dim=0, keepdim=True)) / z_a.std(dim=0, keepdim=True)\n",
        "    z_b_norm = (z_b - z_b.mean(dim=0, keepdim=True)) / z_b.std(dim=0, keepdim=True)\n",
        "\n",
        "    c = z_a_norm.T.matmul(z_b_norm) / batch_size\n",
        "    \n",
        "    c_diff = (c - torch.eye(self.latent_dim, device=device)).pow(2)\n",
        "\n",
        "    l_tensor = torch.ones_like(c_diff) * self.l_off_diag\n",
        "    l_tensor[range(self.latent_dim), range(self.latent_dim)] = 1\n",
        "    c_diff = c_diff * l_tensor\n",
        "    return c_diff.sum()\n",
        "\n",
        "  def fit(self, train_data, batch_size=512, lr=5e-4, num_epochs=20):\n",
        "    train_data = MyDataset(train_data, transforms=contrast_transforms)\n",
        "    dataloader = DataLoader(train_data, batch_size=batch_size, shuffle=True)\n",
        "\n",
        "    optimizer = Adam(self.net.parameters(), lr=lr)\n",
        "\n",
        "    losses = []\n",
        "\n",
        "    for epoch in trange(num_epochs, desc='Training'):\n",
        "      for batch in dataloader:\n",
        "\n",
        "        loss = self.loss(batch.to(device))\n",
        "        optimizer.zero_grad()\n",
        "        loss.backward()\n",
        "        optimizer.step()\n",
        "        \n",
        "        losses.append(loss.item())\n",
        "\n",
        "    return np.array(losses)\n",
        "\n",
        "  @torch.no_grad()\n",
        "  def encode(self, batch):\n",
        "    self.eval()\n",
        "    out = self.net(batch.to(device))\n",
        "    self.train()\n",
        "    return out"
      ],
      "metadata": {
        "id": "6gJbx3rNx477"
      },
      "execution_count": 16,
      "outputs": []
    },
    {
      "cell_type": "code",
      "source": [
        "def q2(train_data, test_data):\n",
        "    \"\"\"\n",
        "    train_data: An (n_train, 1, 32, 32) torchvision dataset of CIFAR10 images with values from -1 to 1\n",
        "\n",
        "    Returns\n",
        "    - a (# of training iterations, ) numpy array  losses on each iteration\n",
        "    - a function that transforms batch of images into their latent representation\n",
        "    \"\"\"\n",
        "    model = BarlowTwins()\n",
        "    model.to(device)\n",
        "    losses = model.fit(train_data)\n",
        "    return losses, model.encode\n"
      ],
      "metadata": {
        "id": "pd6RrZfP75HR"
      },
      "execution_count": 17,
      "outputs": []
    },
    {
      "cell_type": "code",
      "source": [
        "# change flag to False if you want only to test your losses w/o accuracy (it takes around 4-5 minutes)\n",
        "q2_results(q2, True)"
      ],
      "metadata": {
        "id": "EA1Z_s1a8_sB",
        "outputId": "59eb15fc-8bbd-4c8c-88fe-dbb3fc00aa63",
        "colab": {
          "base_uri": "https://localhost:8080/",
          "height": 364
        }
      },
      "execution_count": 18,
      "outputs": [
        {
          "output_type": "stream",
          "name": "stdout",
          "text": [
            "Files already downloaded and verified\n",
            "Files already downloaded and verified\n"
          ]
        },
        {
          "output_type": "stream",
          "name": "stderr",
          "text": [
            "Training: 100%|██████████| 20/20 [20:02<00:00, 60.10s/it]\n"
          ]
        },
        {
          "output_type": "stream",
          "name": "stdout",
          "text": [
            "mean classification accuracy=0.3227\n"
          ]
        },
        {
          "output_type": "display_data",
          "data": {
            "image/png": "[encoded data removed]",
            "text/plain": [
              "<Figure size 432x288 with 1 Axes>"
            ]
          },
          "metadata": {
            "needs_background": "light"
          }
        }
      ]
    },
    {
      "cell_type": "markdown",
      "source": [
        "# Bonus. SwAV\n",
        "\n",
        "Here we will implement [SwAV](https://arxiv.org/abs/2006.09882v5)\n",
        "\n",
        "**You will provide the following deliverables**\n",
        "\n",
        "\n",
        "1. Over the course of training, record loss ber batch.\n",
        "2. A function that encodes a batch of images with your trained model. The function recieves a batch torch tensors on cpu and should return transformed 2d tensor (batch size x laten dim). It will be used to test representation on classification task."
      ],
      "metadata": {
        "id": "D8UN9nr9aYGx"
      }
    },
    {
      "cell_type": "code",
      "source": [
        "def b(train_data):\n",
        "    \"\"\"\n",
        "    train_data: An (n_train, 1, 32, 32) torchvision dataset of CIFAR10 images with values from -1 to 1\n",
        "\n",
        "    Returns\n",
        "    - a (# of training iterations, ) numpy array  losses on each iteration\n",
        "    - a function that transforms batch of images into their latent representation\n",
        "    \"\"\""
      ],
      "metadata": {
        "id": "1Yin_8Ebaa8P"
      },
      "execution_count": null,
      "outputs": []
    },
    {
      "cell_type": "code",
      "source": [
        "q2_results(b, True)"
      ],
      "metadata": {
        "id": "S0jgIgLN8tzd"
      },
      "execution_count": null,
      "outputs": []
    }
  ]
}