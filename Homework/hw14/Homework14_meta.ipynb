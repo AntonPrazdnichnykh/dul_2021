{
  "nbformat": 4,
  "nbformat_minor": 0,
  "metadata": {
    "colab": {
      "name": "Homework14_meta.ipynb",
      "provenance": [],
      "collapsed_sections": [],
      "include_colab_link": true
    },
    "kernelspec": {
      "name": "python3",
      "display_name": "Python 3"
    },
    "language_info": {
      "name": "python"
    },
    "widgets": {
      "application/vnd.jupyter.widget-state+json": {
        "3bd6e0c1ffb94610ab0765fc3831ba94": {
          "model_module": "@jupyter-widgets/controls",
          "model_name": "HBoxModel",
          "model_module_version": "1.5.0",
          "state": {
            "_dom_classes": [],
            "_model_module": "@jupyter-widgets/controls",
            "_model_module_version": "1.5.0",
            "_model_name": "HBoxModel",
            "_view_count": null,
            "_view_module": "@jupyter-widgets/controls",
            "_view_module_version": "1.5.0",
            "_view_name": "HBoxView",
            "box_style": "",
            "children": [
              "IPY_MODEL_a06669fe85d44c35b09b440480f4227b",
              "IPY_MODEL_62905d685e024c65b9e05e572fb44e45",
              "IPY_MODEL_6f1f4878a7114bcfa386a1da5acc606f"
            ],
            "layout": "IPY_MODEL_a567d751baa640baadb489d1c45f456c"
          }
        },
        "a06669fe85d44c35b09b440480f4227b": {
          "model_module": "@jupyter-widgets/controls",
          "model_name": "HTMLModel",
          "model_module_version": "1.5.0",
          "state": {
            "_dom_classes": [],
            "_model_module": "@jupyter-widgets/controls",
            "_model_module_version": "1.5.0",
            "_model_name": "HTMLModel",
            "_view_count": null,
            "_view_module": "@jupyter-widgets/controls",
            "_view_module_version": "1.5.0",
            "_view_name": "HTMLView",
            "description": "",
            "description_tooltip": null,
            "layout": "IPY_MODEL_2fd6878deb8a45a7b1e93cad56e93013",
            "placeholder": "​",
            "style": "IPY_MODEL_41aefd59195e4d7bab312d5d8d966c8c",
            "value": ""
          }
        },
        "62905d685e024c65b9e05e572fb44e45": {
          "model_module": "@jupyter-widgets/controls",
          "model_name": "FloatProgressModel",
          "model_module_version": "1.5.0",
          "state": {
            "_dom_classes": [],
            "_model_module": "@jupyter-widgets/controls",
            "_model_module_version": "1.5.0",
            "_model_name": "FloatProgressModel",
            "_view_count": null,
            "_view_module": "@jupyter-widgets/controls",
            "_view_module_version": "1.5.0",
            "_view_name": "ProgressView",
            "bar_style": "success",
            "description": "",
            "description_tooltip": null,
            "layout": "IPY_MODEL_3cc3b165cad44a8ab6d8fdc70ddf22fb",
            "max": 9912422,
            "min": 0,
            "orientation": "horizontal",
            "style": "IPY_MODEL_abdd046d55d74ee3a3b2945bdd93caad",
            "value": 9912422
          }
        },
        "6f1f4878a7114bcfa386a1da5acc606f": {
          "model_module": "@jupyter-widgets/controls",
          "model_name": "HTMLModel",
          "model_module_version": "1.5.0",
          "state": {
            "_dom_classes": [],
            "_model_module": "@jupyter-widgets/controls",
            "_model_module_version": "1.5.0",
            "_model_name": "HTMLModel",
            "_view_count": null,
            "_view_module": "@jupyter-widgets/controls",
            "_view_module_version": "1.5.0",
            "_view_name": "HTMLView",
            "description": "",
            "description_tooltip": null,
            "layout": "IPY_MODEL_7e2af1295e134ab3b2cc2ae07ffd422f",
            "placeholder": "​",
            "style": "IPY_MODEL_06fbbaf403874b74b5a724398b0e64ef",
            "value": " 9913344/? [00:00&lt;00:00, 17739639.14it/s]"
          }
        },
        "a567d751baa640baadb489d1c45f456c": {
          "model_module": "@jupyter-widgets/base",
          "model_name": "LayoutModel",
          "model_module_version": "1.2.0",
          "state": {
            "_model_module": "@jupyter-widgets/base",
            "_model_module_version": "1.2.0",
            "_model_name": "LayoutModel",
            "_view_count": null,
            "_view_module": "@jupyter-widgets/base",
            "_view_module_version": "1.2.0",
            "_view_name": "LayoutView",
            "align_content": null,
            "align_items": null,
            "align_self": null,
            "border": null,
            "bottom": null,
            "display": null,
            "flex": null,
            "flex_flow": null,
            "grid_area": null,
            "grid_auto_columns": null,
            "grid_auto_flow": null,
            "grid_auto_rows": null,
            "grid_column": null,
            "grid_gap": null,
            "grid_row": null,
            "grid_template_areas": null,
            "grid_template_columns": null,
            "grid_template_rows": null,
            "height": null,
            "justify_content": null,
            "justify_items": null,
            "left": null,
            "margin": null,
            "max_height": null,
            "max_width": null,
            "min_height": null,
            "min_width": null,
            "object_fit": null,
            "object_position": null,
            "order": null,
            "overflow": null,
            "overflow_x": null,
            "overflow_y": null,
            "padding": null,
            "right": null,
            "top": null,
            "visibility": null,
            "width": null
          }
        },
        "2fd6878deb8a45a7b1e93cad56e93013": {
          "model_module": "@jupyter-widgets/base",
          "model_name": "LayoutModel",
          "model_module_version": "1.2.0",
          "state": {
            "_model_module": "@jupyter-widgets/base",
            "_model_module_version": "1.2.0",
            "_model_name": "LayoutModel",
            "_view_count": null,
            "_view_module": "@jupyter-widgets/base",
            "_view_module_version": "1.2.0",
            "_view_name": "LayoutView",
            "align_content": null,
            "align_items": null,
            "align_self": null,
            "border": null,
            "bottom": null,
            "display": null,
            "flex": null,
            "flex_flow": null,
            "grid_area": null,
            "grid_auto_columns": null,
            "grid_auto_flow": null,
            "grid_auto_rows": null,
            "grid_column": null,
            "grid_gap": null,
            "grid_row": null,
            "grid_template_areas": null,
            "grid_template_columns": null,
            "grid_template_rows": null,
            "height": null,
            "justify_content": null,
            "justify_items": null,
            "left": null,
            "margin": null,
            "max_height": null,
            "max_width": null,
            "min_height": null,
            "min_width": null,
            "object_fit": null,
            "object_position": null,
            "order": null,
            "overflow": null,
            "overflow_x": null,
            "overflow_y": null,
            "padding": null,
            "right": null,
            "top": null,
            "visibility": null,
            "width": null
          }
        },
        "41aefd59195e4d7bab312d5d8d966c8c": {
          "model_module": "@jupyter-widgets/controls",
          "model_name": "DescriptionStyleModel",
          "model_module_version": "1.5.0",
          "state": {
            "_model_module": "@jupyter-widgets/controls",
            "_model_module_version": "1.5.0",
            "_model_name": "DescriptionStyleModel",
            "_view_count": null,
            "_view_module": "@jupyter-widgets/base",
            "_view_module_version": "1.2.0",
            "_view_name": "StyleView",
            "description_width": ""
          }
        },
        "3cc3b165cad44a8ab6d8fdc70ddf22fb": {
          "model_module": "@jupyter-widgets/base",
          "model_name": "LayoutModel",
          "model_module_version": "1.2.0",
          "state": {
            "_model_module": "@jupyter-widgets/base",
            "_model_module_version": "1.2.0",
            "_model_name": "LayoutModel",
            "_view_count": null,
            "_view_module": "@jupyter-widgets/base",
            "_view_module_version": "1.2.0",
            "_view_name": "LayoutView",
            "align_content": null,
            "align_items": null,
            "align_self": null,
            "border": null,
            "bottom": null,
            "display": null,
            "flex": null,
            "flex_flow": null,
            "grid_area": null,
            "grid_auto_columns": null,
            "grid_auto_flow": null,
            "grid_auto_rows": null,
            "grid_column": null,
            "grid_gap": null,
            "grid_row": null,
            "grid_template_areas": null,
            "grid_template_columns": null,
            "grid_template_rows": null,
            "height": null,
            "justify_content": null,
            "justify_items": null,
            "left": null,
            "margin": null,
            "max_height": null,
            "max_width": null,
            "min_height": null,
            "min_width": null,
            "object_fit": null,
            "object_position": null,
            "order": null,
            "overflow": null,
            "overflow_x": null,
            "overflow_y": null,
            "padding": null,
            "right": null,
            "top": null,
            "visibility": null,
            "width": null
          }
        },
        "abdd046d55d74ee3a3b2945bdd93caad": {
          "model_module": "@jupyter-widgets/controls",
          "model_name": "ProgressStyleModel",
          "model_module_version": "1.5.0",
          "state": {
            "_model_module": "@jupyter-widgets/controls",
            "_model_module_version": "1.5.0",
            "_model_name": "ProgressStyleModel",
            "_view_count": null,
            "_view_module": "@jupyter-widgets/base",
            "_view_module_version": "1.2.0",
            "_view_name": "StyleView",
            "bar_color": null,
            "description_width": ""
          }
        },
        "7e2af1295e134ab3b2cc2ae07ffd422f": {
          "model_module": "@jupyter-widgets/base",
          "model_name": "LayoutModel",
          "model_module_version": "1.2.0",
          "state": {
            "_model_module": "@jupyter-widgets/base",
            "_model_module_version": "1.2.0",
            "_model_name": "LayoutModel",
            "_view_count": null,
            "_view_module": "@jupyter-widgets/base",
            "_view_module_version": "1.2.0",
            "_view_name": "LayoutView",
            "align_content": null,
            "align_items": null,
            "align_self": null,
            "border": null,
            "bottom": null,
            "display": null,
            "flex": null,
            "flex_flow": null,
            "grid_area": null,
            "grid_auto_columns": null,
            "grid_auto_flow": null,
            "grid_auto_rows": null,
            "grid_column": null,
            "grid_gap": null,
            "grid_row": null,
            "grid_template_areas": null,
            "grid_template_columns": null,
            "grid_template_rows": null,
            "height": null,
            "justify_content": null,
            "justify_items": null,
            "left": null,
            "margin": null,
            "max_height": null,
            "max_width": null,
            "min_height": null,
            "min_width": null,
            "object_fit": null,
            "object_position": null,
            "order": null,
            "overflow": null,
            "overflow_x": null,
            "overflow_y": null,
            "padding": null,
            "right": null,
            "top": null,
            "visibility": null,
            "width": null
          }
        },
        "06fbbaf403874b74b5a724398b0e64ef": {
          "model_module": "@jupyter-widgets/controls",
          "model_name": "DescriptionStyleModel",
          "model_module_version": "1.5.0",
          "state": {
            "_model_module": "@jupyter-widgets/controls",
            "_model_module_version": "1.5.0",
            "_model_name": "DescriptionStyleModel",
            "_view_count": null,
            "_view_module": "@jupyter-widgets/base",
            "_view_module_version": "1.2.0",
            "_view_name": "StyleView",
            "description_width": ""
          }
        },
        "0047e073f8de40c0800e12c20ad1042b": {
          "model_module": "@jupyter-widgets/controls",
          "model_name": "HBoxModel",
          "model_module_version": "1.5.0",
          "state": {
            "_dom_classes": [],
            "_model_module": "@jupyter-widgets/controls",
            "_model_module_version": "1.5.0",
            "_model_name": "HBoxModel",
            "_view_count": null,
            "_view_module": "@jupyter-widgets/controls",
            "_view_module_version": "1.5.0",
            "_view_name": "HBoxView",
            "box_style": "",
            "children": [
              "IPY_MODEL_5d7072308af4445b98f6ae20708c7989",
              "IPY_MODEL_f2d81a176b3b4a0cb98c9dedaa192227",
              "IPY_MODEL_5b18c5ddaecf473eaa663941641ffa2d"
            ],
            "layout": "IPY_MODEL_196aa18eea524d19b69f25298cbe8026"
          }
        },
        "5d7072308af4445b98f6ae20708c7989": {
          "model_module": "@jupyter-widgets/controls",
          "model_name": "HTMLModel",
          "model_module_version": "1.5.0",
          "state": {
            "_dom_classes": [],
            "_model_module": "@jupyter-widgets/controls",
            "_model_module_version": "1.5.0",
            "_model_name": "HTMLModel",
            "_view_count": null,
            "_view_module": "@jupyter-widgets/controls",
            "_view_module_version": "1.5.0",
            "_view_name": "HTMLView",
            "description": "",
            "description_tooltip": null,
            "layout": "IPY_MODEL_cecb57e0c26a4451a72812319da5be7c",
            "placeholder": "​",
            "style": "IPY_MODEL_975d0f07f20541cab6a85ef7cb686e83",
            "value": ""
          }
        },
        "f2d81a176b3b4a0cb98c9dedaa192227": {
          "model_module": "@jupyter-widgets/controls",
          "model_name": "FloatProgressModel",
          "model_module_version": "1.5.0",
          "state": {
            "_dom_classes": [],
            "_model_module": "@jupyter-widgets/controls",
            "_model_module_version": "1.5.0",
            "_model_name": "FloatProgressModel",
            "_view_count": null,
            "_view_module": "@jupyter-widgets/controls",
            "_view_module_version": "1.5.0",
            "_view_name": "ProgressView",
            "bar_style": "success",
            "description": "",
            "description_tooltip": null,
            "layout": "IPY_MODEL_1f4efd7885bd4a8997135d3246aed204",
            "max": 28881,
            "min": 0,
            "orientation": "horizontal",
            "style": "IPY_MODEL_ec810fbf0564438ab7dda47eec8a716d",
            "value": 28881
          }
        },
        "5b18c5ddaecf473eaa663941641ffa2d": {
          "model_module": "@jupyter-widgets/controls",
          "model_name": "HTMLModel",
          "model_module_version": "1.5.0",
          "state": {
            "_dom_classes": [],
            "_model_module": "@jupyter-widgets/controls",
            "_model_module_version": "1.5.0",
            "_model_name": "HTMLModel",
            "_view_count": null,
            "_view_module": "@jupyter-widgets/controls",
            "_view_module_version": "1.5.0",
            "_view_name": "HTMLView",
            "description": "",
            "description_tooltip": null,
            "layout": "IPY_MODEL_a5dc882a670242b7bb07258d7a52d5b0",
            "placeholder": "​",
            "style": "IPY_MODEL_bd00c6d9051e4265a2eb285b4f7386bd",
            "value": " 29696/? [00:00&lt;00:00, 9316.07it/s]"
          }
        },
        "196aa18eea524d19b69f25298cbe8026": {
          "model_module": "@jupyter-widgets/base",
          "model_name": "LayoutModel",
          "model_module_version": "1.2.0",
          "state": {
            "_model_module": "@jupyter-widgets/base",
            "_model_module_version": "1.2.0",
            "_model_name": "LayoutModel",
            "_view_count": null,
            "_view_module": "@jupyter-widgets/base",
            "_view_module_version": "1.2.0",
            "_view_name": "LayoutView",
            "align_content": null,
            "align_items": null,
            "align_self": null,
            "border": null,
            "bottom": null,
            "display": null,
            "flex": null,
            "flex_flow": null,
            "grid_area": null,
            "grid_auto_columns": null,
            "grid_auto_flow": null,
            "grid_auto_rows": null,
            "grid_column": null,
            "grid_gap": null,
            "grid_row": null,
            "grid_template_areas": null,
            "grid_template_columns": null,
            "grid_template_rows": null,
            "height": null,
            "justify_content": null,
            "justify_items": null,
            "left": null,
            "margin": null,
            "max_height": null,
            "max_width": null,
            "min_height": null,
            "min_width": null,
            "object_fit": null,
            "object_position": null,
            "order": null,
            "overflow": null,
            "overflow_x": null,
            "overflow_y": null,
            "padding": null,
            "right": null,
            "top": null,
            "visibility": null,
            "width": null
          }
        },
        "cecb57e0c26a4451a72812319da5be7c": {
          "model_module": "@jupyter-widgets/base",
          "model_name": "LayoutModel",
          "model_module_version": "1.2.0",
          "state": {
            "_model_module": "@jupyter-widgets/base",
            "_model_module_version": "1.2.0",
            "_model_name": "LayoutModel",
            "_view_count": null,
            "_view_module": "@jupyter-widgets/base",
            "_view_module_version": "1.2.0",
            "_view_name": "LayoutView",
            "align_content": null,
            "align_items": null,
            "align_self": null,
            "border": null,
            "bottom": null,
            "display": null,
            "flex": null,
            "flex_flow": null,
            "grid_area": null,
            "grid_auto_columns": null,
            "grid_auto_flow": null,
            "grid_auto_rows": null,
            "grid_column": null,
            "grid_gap": null,
            "grid_row": null,
            "grid_template_areas": null,
            "grid_template_columns": null,
            "grid_template_rows": null,
            "height": null,
            "justify_content": null,
            "justify_items": null,
            "left": null,
            "margin": null,
            "max_height": null,
            "max_width": null,
            "min_height": null,
            "min_width": null,
            "object_fit": null,
            "object_position": null,
            "order": null,
            "overflow": null,
            "overflow_x": null,
            "overflow_y": null,
            "padding": null,
            "right": null,
            "top": null,
            "visibility": null,
            "width": null
          }
        },
        "975d0f07f20541cab6a85ef7cb686e83": {
          "model_module": "@jupyter-widgets/controls",
          "model_name": "DescriptionStyleModel",
          "model_module_version": "1.5.0",
          "state": {
            "_model_module": "@jupyter-widgets/controls",
            "_model_module_version": "1.5.0",
            "_model_name": "DescriptionStyleModel",
            "_view_count": null,
            "_view_module": "@jupyter-widgets/base",
            "_view_module_version": "1.2.0",
            "_view_name": "StyleView",
            "description_width": ""
          }
        },
        "1f4efd7885bd4a8997135d3246aed204": {
          "model_module": "@jupyter-widgets/base",
          "model_name": "LayoutModel",
          "model_module_version": "1.2.0",
          "state": {
            "_model_module": "@jupyter-widgets/base",
            "_model_module_version": "1.2.0",
            "_model_name": "LayoutModel",
            "_view_count": null,
            "_view_module": "@jupyter-widgets/base",
            "_view_module_version": "1.2.0",
            "_view_name": "LayoutView",
            "align_content": null,
            "align_items": null,
            "align_self": null,
            "border": null,
            "bottom": null,
            "display": null,
            "flex": null,
            "flex_flow": null,
            "grid_area": null,
            "grid_auto_columns": null,
            "grid_auto_flow": null,
            "grid_auto_rows": null,
            "grid_column": null,
            "grid_gap": null,
            "grid_row": null,
            "grid_template_areas": null,
            "grid_template_columns": null,
            "grid_template_rows": null,
            "height": null,
            "justify_content": null,
            "justify_items": null,
            "left": null,
            "margin": null,
            "max_height": null,
            "max_width": null,
            "min_height": null,
            "min_width": null,
            "object_fit": null,
            "object_position": null,
            "order": null,
            "overflow": null,
            "overflow_x": null,
            "overflow_y": null,
            "padding": null,
            "right": null,
            "top": null,
            "visibility": null,
            "width": null
          }
        },
        "ec810fbf0564438ab7dda47eec8a716d": {
          "model_module": "@jupyter-widgets/controls",
          "model_name": "ProgressStyleModel",
          "model_module_version": "1.5.0",
          "state": {
            "_model_module": "@jupyter-widgets/controls",
            "_model_module_version": "1.5.0",
            "_model_name": "ProgressStyleModel",
            "_view_count": null,
            "_view_module": "@jupyter-widgets/base",
            "_view_module_version": "1.2.0",
            "_view_name": "StyleView",
            "bar_color": null,
            "description_width": ""
          }
        },
        "a5dc882a670242b7bb07258d7a52d5b0": {
          "model_module": "@jupyter-widgets/base",
          "model_name": "LayoutModel",
          "model_module_version": "1.2.0",
          "state": {
            "_model_module": "@jupyter-widgets/base",
            "_model_module_version": "1.2.0",
            "_model_name": "LayoutModel",
            "_view_count": null,
            "_view_module": "@jupyter-widgets/base",
            "_view_module_version": "1.2.0",
            "_view_name": "LayoutView",
            "align_content": null,
            "align_items": null,
            "align_self": null,
            "border": null,
            "bottom": null,
            "display": null,
            "flex": null,
            "flex_flow": null,
            "grid_area": null,
            "grid_auto_columns": null,
            "grid_auto_flow": null,
            "grid_auto_rows": null,
            "grid_column": null,
            "grid_gap": null,
            "grid_row": null,
            "grid_template_areas": null,
            "grid_template_columns": null,
            "grid_template_rows": null,
            "height": null,
            "justify_content": null,
            "justify_items": null,
            "left": null,
            "margin": null,
            "max_height": null,
            "max_width": null,
            "min_height": null,
            "min_width": null,
            "object_fit": null,
            "object_position": null,
            "order": null,
            "overflow": null,
            "overflow_x": null,
            "overflow_y": null,
            "padding": null,
            "right": null,
            "top": null,
            "visibility": null,
            "width": null
          }
        },
        "bd00c6d9051e4265a2eb285b4f7386bd": {
          "model_module": "@jupyter-widgets/controls",
          "model_name": "DescriptionStyleModel",
          "model_module_version": "1.5.0",
          "state": {
            "_model_module": "@jupyter-widgets/controls",
            "_model_module_version": "1.5.0",
            "_model_name": "DescriptionStyleModel",
            "_view_count": null,
            "_view_module": "@jupyter-widgets/base",
            "_view_module_version": "1.2.0",
            "_view_name": "StyleView",
            "description_width": ""
          }
        },
        "ef3029c8b91a4d50b76d7551a52a061e": {
          "model_module": "@jupyter-widgets/controls",
          "model_name": "HBoxModel",
          "model_module_version": "1.5.0",
          "state": {
            "_dom_classes": [],
            "_model_module": "@jupyter-widgets/controls",
            "_model_module_version": "1.5.0",
            "_model_name": "HBoxModel",
            "_view_count": null,
            "_view_module": "@jupyter-widgets/controls",
            "_view_module_version": "1.5.0",
            "_view_name": "HBoxView",
            "box_style": "",
            "children": [
              "IPY_MODEL_56108c481e8b45d5b8b4c6ad0508e26f",
              "IPY_MODEL_f9c07151752b46d58fbd553d94fdaa5d",
              "IPY_MODEL_9c0344e4c9a04f168d33a0ce58d36f98"
            ],
            "layout": "IPY_MODEL_238fa3efd1bb4f74bd0be7890afb8dea"
          }
        },
        "56108c481e8b45d5b8b4c6ad0508e26f": {
          "model_module": "@jupyter-widgets/controls",
          "model_name": "HTMLModel",
          "model_module_version": "1.5.0",
          "state": {
            "_dom_classes": [],
            "_model_module": "@jupyter-widgets/controls",
            "_model_module_version": "1.5.0",
            "_model_name": "HTMLModel",
            "_view_count": null,
            "_view_module": "@jupyter-widgets/controls",
            "_view_module_version": "1.5.0",
            "_view_name": "HTMLView",
            "description": "",
            "description_tooltip": null,
            "layout": "IPY_MODEL_4017958136304dec9a139572cd0c3953",
            "placeholder": "​",
            "style": "IPY_MODEL_2472aca99dfe4e068bf4a17dd892b92e",
            "value": ""
          }
        },
        "f9c07151752b46d58fbd553d94fdaa5d": {
          "model_module": "@jupyter-widgets/controls",
          "model_name": "FloatProgressModel",
          "model_module_version": "1.5.0",
          "state": {
            "_dom_classes": [],
            "_model_module": "@jupyter-widgets/controls",
            "_model_module_version": "1.5.0",
            "_model_name": "FloatProgressModel",
            "_view_count": null,
            "_view_module": "@jupyter-widgets/controls",
            "_view_module_version": "1.5.0",
            "_view_name": "ProgressView",
            "bar_style": "success",
            "description": "",
            "description_tooltip": null,
            "layout": "IPY_MODEL_43bbccdb4f374567b43a3c72a6b9dac9",
            "max": 1648877,
            "min": 0,
            "orientation": "horizontal",
            "style": "IPY_MODEL_ca2d1eda3aef4be5a04b6105a74969e6",
            "value": 1648877
          }
        },
        "9c0344e4c9a04f168d33a0ce58d36f98": {
          "model_module": "@jupyter-widgets/controls",
          "model_name": "HTMLModel",
          "model_module_version": "1.5.0",
          "state": {
            "_dom_classes": [],
            "_model_module": "@jupyter-widgets/controls",
            "_model_module_version": "1.5.0",
            "_model_name": "HTMLModel",
            "_view_count": null,
            "_view_module": "@jupyter-widgets/controls",
            "_view_module_version": "1.5.0",
            "_view_name": "HTMLView",
            "description": "",
            "description_tooltip": null,
            "layout": "IPY_MODEL_a2a34683845e44b49d567ce761c079e2",
            "placeholder": "​",
            "style": "IPY_MODEL_0fe19a0c3ffe4930a7ac24caff0eb798",
            "value": " 1649664/? [00:00&lt;00:00, 2077604.20it/s]"
          }
        },
        "238fa3efd1bb4f74bd0be7890afb8dea": {
          "model_module": "@jupyter-widgets/base",
          "model_name": "LayoutModel",
          "model_module_version": "1.2.0",
          "state": {
            "_model_module": "@jupyter-widgets/base",
            "_model_module_version": "1.2.0",
            "_model_name": "LayoutModel",
            "_view_count": null,
            "_view_module": "@jupyter-widgets/base",
            "_view_module_version": "1.2.0",
            "_view_name": "LayoutView",
            "align_content": null,
            "align_items": null,
            "align_self": null,
            "border": null,
            "bottom": null,
            "display": null,
            "flex": null,
            "flex_flow": null,
            "grid_area": null,
            "grid_auto_columns": null,
            "grid_auto_flow": null,
            "grid_auto_rows": null,
            "grid_column": null,
            "grid_gap": null,
            "grid_row": null,
            "grid_template_areas": null,
            "grid_template_columns": null,
            "grid_template_rows": null,
            "height": null,
            "justify_content": null,
            "justify_items": null,
            "left": null,
            "margin": null,
            "max_height": null,
            "max_width": null,
            "min_height": null,
            "min_width": null,
            "object_fit": null,
            "object_position": null,
            "order": null,
            "overflow": null,
            "overflow_x": null,
            "overflow_y": null,
            "padding": null,
            "right": null,
            "top": null,
            "visibility": null,
            "width": null
          }
        },
        "4017958136304dec9a139572cd0c3953": {
          "model_module": "@jupyter-widgets/base",
          "model_name": "LayoutModel",
          "model_module_version": "1.2.0",
          "state": {
            "_model_module": "@jupyter-widgets/base",
            "_model_module_version": "1.2.0",
            "_model_name": "LayoutModel",
            "_view_count": null,
            "_view_module": "@jupyter-widgets/base",
            "_view_module_version": "1.2.0",
            "_view_name": "LayoutView",
            "align_content": null,
            "align_items": null,
            "align_self": null,
            "border": null,
            "bottom": null,
            "display": null,
            "flex": null,
            "flex_flow": null,
            "grid_area": null,
            "grid_auto_columns": null,
            "grid_auto_flow": null,
            "grid_auto_rows": null,
            "grid_column": null,
            "grid_gap": null,
            "grid_row": null,
            "grid_template_areas": null,
            "grid_template_columns": null,
            "grid_template_rows": null,
            "height": null,
            "justify_content": null,
            "justify_items": null,
            "left": null,
            "margin": null,
            "max_height": null,
            "max_width": null,
            "min_height": null,
            "min_width": null,
            "object_fit": null,
            "object_position": null,
            "order": null,
            "overflow": null,
            "overflow_x": null,
            "overflow_y": null,
            "padding": null,
            "right": null,
            "top": null,
            "visibility": null,
            "width": null
          }
        },
        "2472aca99dfe4e068bf4a17dd892b92e": {
          "model_module": "@jupyter-widgets/controls",
          "model_name": "DescriptionStyleModel",
          "model_module_version": "1.5.0",
          "state": {
            "_model_module": "@jupyter-widgets/controls",
            "_model_module_version": "1.5.0",
            "_model_name": "DescriptionStyleModel",
            "_view_count": null,
            "_view_module": "@jupyter-widgets/base",
            "_view_module_version": "1.2.0",
            "_view_name": "StyleView",
            "description_width": ""
          }
        },
        "43bbccdb4f374567b43a3c72a6b9dac9": {
          "model_module": "@jupyter-widgets/base",
          "model_name": "LayoutModel",
          "model_module_version": "1.2.0",
          "state": {
            "_model_module": "@jupyter-widgets/base",
            "_model_module_version": "1.2.0",
            "_model_name": "LayoutModel",
            "_view_count": null,
            "_view_module": "@jupyter-widgets/base",
            "_view_module_version": "1.2.0",
            "_view_name": "LayoutView",
            "align_content": null,
            "align_items": null,
            "align_self": null,
            "border": null,
            "bottom": null,
            "display": null,
            "flex": null,
            "flex_flow": null,
            "grid_area": null,
            "grid_auto_columns": null,
            "grid_auto_flow": null,
            "grid_auto_rows": null,
            "grid_column": null,
            "grid_gap": null,
            "grid_row": null,
            "grid_template_areas": null,
            "grid_template_columns": null,
            "grid_template_rows": null,
            "height": null,
            "justify_content": null,
            "justify_items": null,
            "left": null,
            "margin": null,
            "max_height": null,
            "max_width": null,
            "min_height": null,
            "min_width": null,
            "object_fit": null,
            "object_position": null,
            "order": null,
            "overflow": null,
            "overflow_x": null,
            "overflow_y": null,
            "padding": null,
            "right": null,
            "top": null,
            "visibility": null,
            "width": null
          }
        },
        "ca2d1eda3aef4be5a04b6105a74969e6": {
          "model_module": "@jupyter-widgets/controls",
          "model_name": "ProgressStyleModel",
          "model_module_version": "1.5.0",
          "state": {
            "_model_module": "@jupyter-widgets/controls",
            "_model_module_version": "1.5.0",
            "_model_name": "ProgressStyleModel",
            "_view_count": null,
            "_view_module": "@jupyter-widgets/base",
            "_view_module_version": "1.2.0",
            "_view_name": "StyleView",
            "bar_color": null,
            "description_width": ""
          }
        },
        "a2a34683845e44b49d567ce761c079e2": {
          "model_module": "@jupyter-widgets/base",
          "model_name": "LayoutModel",
          "model_module_version": "1.2.0",
          "state": {
            "_model_module": "@jupyter-widgets/base",
            "_model_module_version": "1.2.0",
            "_model_name": "LayoutModel",
            "_view_count": null,
            "_view_module": "@jupyter-widgets/base",
            "_view_module_version": "1.2.0",
            "_view_name": "LayoutView",
            "align_content": null,
            "align_items": null,
            "align_self": null,
            "border": null,
            "bottom": null,
            "display": null,
            "flex": null,
            "flex_flow": null,
            "grid_area": null,
            "grid_auto_columns": null,
            "grid_auto_flow": null,
            "grid_auto_rows": null,
            "grid_column": null,
            "grid_gap": null,
            "grid_row": null,
            "grid_template_areas": null,
            "grid_template_columns": null,
            "grid_template_rows": null,
            "height": null,
            "justify_content": null,
            "justify_items": null,
            "left": null,
            "margin": null,
            "max_height": null,
            "max_width": null,
            "min_height": null,
            "min_width": null,
            "object_fit": null,
            "object_position": null,
            "order": null,
            "overflow": null,
            "overflow_x": null,
            "overflow_y": null,
            "padding": null,
            "right": null,
            "top": null,
            "visibility": null,
            "width": null
          }
        },
        "0fe19a0c3ffe4930a7ac24caff0eb798": {
          "model_module": "@jupyter-widgets/controls",
          "model_name": "DescriptionStyleModel",
          "model_module_version": "1.5.0",
          "state": {
            "_model_module": "@jupyter-widgets/controls",
            "_model_module_version": "1.5.0",
            "_model_name": "DescriptionStyleModel",
            "_view_count": null,
            "_view_module": "@jupyter-widgets/base",
            "_view_module_version": "1.2.0",
            "_view_name": "StyleView",
            "description_width": ""
          }
        },
        "58e03409950c47aeae70ef606925af71": {
          "model_module": "@jupyter-widgets/controls",
          "model_name": "HBoxModel",
          "model_module_version": "1.5.0",
          "state": {
            "_dom_classes": [],
            "_model_module": "@jupyter-widgets/controls",
            "_model_module_version": "1.5.0",
            "_model_name": "HBoxModel",
            "_view_count": null,
            "_view_module": "@jupyter-widgets/controls",
            "_view_module_version": "1.5.0",
            "_view_name": "HBoxView",
            "box_style": "",
            "children": [
              "IPY_MODEL_b194b12f5ba541d9a4e3f7d555764142",
              "IPY_MODEL_155b3abf23234e6c9d92fa3f37c95ec3",
              "IPY_MODEL_72877b451c3944c580d11a8b713e7028"
            ],
            "layout": "IPY_MODEL_d49b951e7f174a008ebcb57f1e1ec298"
          }
        },
        "b194b12f5ba541d9a4e3f7d555764142": {
          "model_module": "@jupyter-widgets/controls",
          "model_name": "HTMLModel",
          "model_module_version": "1.5.0",
          "state": {
            "_dom_classes": [],
            "_model_module": "@jupyter-widgets/controls",
            "_model_module_version": "1.5.0",
            "_model_name": "HTMLModel",
            "_view_count": null,
            "_view_module": "@jupyter-widgets/controls",
            "_view_module_version": "1.5.0",
            "_view_name": "HTMLView",
            "description": "",
            "description_tooltip": null,
            "layout": "IPY_MODEL_4b03c564b0ed4a7d90fd349806d5c079",
            "placeholder": "​",
            "style": "IPY_MODEL_35ea7d09436c4c498581233222ca659f",
            "value": ""
          }
        },
        "155b3abf23234e6c9d92fa3f37c95ec3": {
          "model_module": "@jupyter-widgets/controls",
          "model_name": "FloatProgressModel",
          "model_module_version": "1.5.0",
          "state": {
            "_dom_classes": [],
            "_model_module": "@jupyter-widgets/controls",
            "_model_module_version": "1.5.0",
            "_model_name": "FloatProgressModel",
            "_view_count": null,
            "_view_module": "@jupyter-widgets/controls",
            "_view_module_version": "1.5.0",
            "_view_name": "ProgressView",
            "bar_style": "success",
            "description": "",
            "description_tooltip": null,
            "layout": "IPY_MODEL_1b49deb4723b4797a67404a698363a01",
            "max": 4542,
            "min": 0,
            "orientation": "horizontal",
            "style": "IPY_MODEL_6b3a3babcdc6462598076ae8e12efb2e",
            "value": 4542
          }
        },
        "72877b451c3944c580d11a8b713e7028": {
          "model_module": "@jupyter-widgets/controls",
          "model_name": "HTMLModel",
          "model_module_version": "1.5.0",
          "state": {
            "_dom_classes": [],
            "_model_module": "@jupyter-widgets/controls",
            "_model_module_version": "1.5.0",
            "_model_name": "HTMLModel",
            "_view_count": null,
            "_view_module": "@jupyter-widgets/controls",
            "_view_module_version": "1.5.0",
            "_view_name": "HTMLView",
            "description": "",
            "description_tooltip": null,
            "layout": "IPY_MODEL_f6d9f87583bb4b2180cc3cd6a8896d8d",
            "placeholder": "​",
            "style": "IPY_MODEL_17f2fa8f59014649898f40f3e3c6df0a",
            "value": " 5120/? [00:00&lt;00:00, 7557.48it/s]"
          }
        },
        "d49b951e7f174a008ebcb57f1e1ec298": {
          "model_module": "@jupyter-widgets/base",
          "model_name": "LayoutModel",
          "model_module_version": "1.2.0",
          "state": {
            "_model_module": "@jupyter-widgets/base",
            "_model_module_version": "1.2.0",
            "_model_name": "LayoutModel",
            "_view_count": null,
            "_view_module": "@jupyter-widgets/base",
            "_view_module_version": "1.2.0",
            "_view_name": "LayoutView",
            "align_content": null,
            "align_items": null,
            "align_self": null,
            "border": null,
            "bottom": null,
            "display": null,
            "flex": null,
            "flex_flow": null,
            "grid_area": null,
            "grid_auto_columns": null,
            "grid_auto_flow": null,
            "grid_auto_rows": null,
            "grid_column": null,
            "grid_gap": null,
            "grid_row": null,
            "grid_template_areas": null,
            "grid_template_columns": null,
            "grid_template_rows": null,
            "height": null,
            "justify_content": null,
            "justify_items": null,
            "left": null,
            "margin": null,
            "max_height": null,
            "max_width": null,
            "min_height": null,
            "min_width": null,
            "object_fit": null,
            "object_position": null,
            "order": null,
            "overflow": null,
            "overflow_x": null,
            "overflow_y": null,
            "padding": null,
            "right": null,
            "top": null,
            "visibility": null,
            "width": null
          }
        },
        "4b03c564b0ed4a7d90fd349806d5c079": {
          "model_module": "@jupyter-widgets/base",
          "model_name": "LayoutModel",
          "model_module_version": "1.2.0",
          "state": {
            "_model_module": "@jupyter-widgets/base",
            "_model_module_version": "1.2.0",
            "_model_name": "LayoutModel",
            "_view_count": null,
            "_view_module": "@jupyter-widgets/base",
            "_view_module_version": "1.2.0",
            "_view_name": "LayoutView",
            "align_content": null,
            "align_items": null,
            "align_self": null,
            "border": null,
            "bottom": null,
            "display": null,
            "flex": null,
            "flex_flow": null,
            "grid_area": null,
            "grid_auto_columns": null,
            "grid_auto_flow": null,
            "grid_auto_rows": null,
            "grid_column": null,
            "grid_gap": null,
            "grid_row": null,
            "grid_template_areas": null,
            "grid_template_columns": null,
            "grid_template_rows": null,
            "height": null,
            "justify_content": null,
            "justify_items": null,
            "left": null,
            "margin": null,
            "max_height": null,
            "max_width": null,
            "min_height": null,
            "min_width": null,
            "object_fit": null,
            "object_position": null,
            "order": null,
            "overflow": null,
            "overflow_x": null,
            "overflow_y": null,
            "padding": null,
            "right": null,
            "top": null,
            "visibility": null,
            "width": null
          }
        },
        "35ea7d09436c4c498581233222ca659f": {
          "model_module": "@jupyter-widgets/controls",
          "model_name": "DescriptionStyleModel",
          "model_module_version": "1.5.0",
          "state": {
            "_model_module": "@jupyter-widgets/controls",
            "_model_module_version": "1.5.0",
            "_model_name": "DescriptionStyleModel",
            "_view_count": null,
            "_view_module": "@jupyter-widgets/base",
            "_view_module_version": "1.2.0",
            "_view_name": "StyleView",
            "description_width": ""
          }
        },
        "1b49deb4723b4797a67404a698363a01": {
          "model_module": "@jupyter-widgets/base",
          "model_name": "LayoutModel",
          "model_module_version": "1.2.0",
          "state": {
            "_model_module": "@jupyter-widgets/base",
            "_model_module_version": "1.2.0",
            "_model_name": "LayoutModel",
            "_view_count": null,
            "_view_module": "@jupyter-widgets/base",
            "_view_module_version": "1.2.0",
            "_view_name": "LayoutView",
            "align_content": null,
            "align_items": null,
            "align_self": null,
            "border": null,
            "bottom": null,
            "display": null,
            "flex": null,
            "flex_flow": null,
            "grid_area": null,
            "grid_auto_columns": null,
            "grid_auto_flow": null,
            "grid_auto_rows": null,
            "grid_column": null,
            "grid_gap": null,
            "grid_row": null,
            "grid_template_areas": null,
            "grid_template_columns": null,
            "grid_template_rows": null,
            "height": null,
            "justify_content": null,
            "justify_items": null,
            "left": null,
            "margin": null,
            "max_height": null,
            "max_width": null,
            "min_height": null,
            "min_width": null,
            "object_fit": null,
            "object_position": null,
            "order": null,
            "overflow": null,
            "overflow_x": null,
            "overflow_y": null,
            "padding": null,
            "right": null,
            "top": null,
            "visibility": null,
            "width": null
          }
        },
        "6b3a3babcdc6462598076ae8e12efb2e": {
          "model_module": "@jupyter-widgets/controls",
          "model_name": "ProgressStyleModel",
          "model_module_version": "1.5.0",
          "state": {
            "_model_module": "@jupyter-widgets/controls",
            "_model_module_version": "1.5.0",
            "_model_name": "ProgressStyleModel",
            "_view_count": null,
            "_view_module": "@jupyter-widgets/base",
            "_view_module_version": "1.2.0",
            "_view_name": "StyleView",
            "bar_color": null,
            "description_width": ""
          }
        },
        "f6d9f87583bb4b2180cc3cd6a8896d8d": {
          "model_module": "@jupyter-widgets/base",
          "model_name": "LayoutModel",
          "model_module_version": "1.2.0",
          "state": {
            "_model_module": "@jupyter-widgets/base",
            "_model_module_version": "1.2.0",
            "_model_name": "LayoutModel",
            "_view_count": null,
            "_view_module": "@jupyter-widgets/base",
            "_view_module_version": "1.2.0",
            "_view_name": "LayoutView",
            "align_content": null,
            "align_items": null,
            "align_self": null,
            "border": null,
            "bottom": null,
            "display": null,
            "flex": null,
            "flex_flow": null,
            "grid_area": null,
            "grid_auto_columns": null,
            "grid_auto_flow": null,
            "grid_auto_rows": null,
            "grid_column": null,
            "grid_gap": null,
            "grid_row": null,
            "grid_template_areas": null,
            "grid_template_columns": null,
            "grid_template_rows": null,
            "height": null,
            "justify_content": null,
            "justify_items": null,
            "left": null,
            "margin": null,
            "max_height": null,
            "max_width": null,
            "min_height": null,
            "min_width": null,
            "object_fit": null,
            "object_position": null,
            "order": null,
            "overflow": null,
            "overflow_x": null,
            "overflow_y": null,
            "padding": null,
            "right": null,
            "top": null,
            "visibility": null,
            "width": null
          }
        },
        "17f2fa8f59014649898f40f3e3c6df0a": {
          "model_module": "@jupyter-widgets/controls",
          "model_name": "DescriptionStyleModel",
          "model_module_version": "1.5.0",
          "state": {
            "_model_module": "@jupyter-widgets/controls",
            "_model_module_version": "1.5.0",
            "_model_name": "DescriptionStyleModel",
            "_view_count": null,
            "_view_module": "@jupyter-widgets/base",
            "_view_module_version": "1.2.0",
            "_view_name": "StyleView",
            "description_width": ""
          }
        }
      }
    },
    "accelerator": "GPU"
  },
  "cells": [
    {
      "cell_type": "markdown",
      "metadata": {
        "id": "view-in-github",
        "colab_type": "text"
      },
      "source": [
        "<a href=\"https://colab.research.google.com/github/AntonPrazdnichnykh/dul_2021/blob/hw14/Homework/hw14/Homework14_meta.ipynb\" target=\"_parent\"><img src=\"https://colab.research.google.com/assets/colab-badge.svg\" alt=\"Open In Colab\"/></a>"
      ]
    },
    {
      "cell_type": "code",
      "source": [
        "!if [ -d dul_2021 ]; then rm -Rf dul_2021; fi\n",
        "!git clone https://github.com/GrigoryBartosh/dul_2021\n",
        "!pip install ./dul_2021"
      ],
      "metadata": {
        "id": "bi0mP9dTRoef",
        "outputId": "449d641d-b6a8-40c8-a807-57ec407e6634",
        "colab": {
          "base_uri": "https://localhost:8080/"
        }
      },
      "execution_count": 1,
      "outputs": [
        {
          "output_type": "stream",
          "name": "stdout",
          "text": [
            "Cloning into 'dul_2021'...\n",
            "remote: Enumerating objects: 435, done.\u001b[K\n",
            "remote: Counting objects: 100% (193/193), done.\u001b[K\n",
            "remote: Compressing objects: 100% (111/111), done.\u001b[K\n",
            "remote: Total 435 (delta 114), reused 82 (delta 78), pack-reused 242\u001b[K\n",
            "Receiving objects: 100% (435/435), 70.44 MiB | 24.58 MiB/s, done.\n",
            "Resolving deltas: 100% (203/203), done.\n",
            "Processing ./dul_2021\n",
            "\u001b[33m  DEPRECATION: A future pip version will change local packages to be built in-place without first copying to a temporary directory. We recommend you use --use-feature=in-tree-build to test your packages with this new behavior before it becomes the default.\n",
            "   pip 21.3 will remove support for this functionality. You can find discussion regarding this at https://github.com/pypa/pip/issues/7555.\u001b[0m\n",
            "Building wheels for collected packages: dul-2021\n",
            "  Building wheel for dul-2021 (setup.py) ... \u001b[?25l\u001b[?25hdone\n",
            "  Created wheel for dul-2021: filename=dul_2021-0.1.0-py3-none-any.whl size=30522 sha256=76da62fc90ceb2f0919e439a7340f0ce7abce5e71e6c5ced821bfcb00b32b0da\n",
            "  Stored in directory: /tmp/pip-ephem-wheel-cache-9o5w6hu7/wheels/55/59/29/0fb1c635652157734f4d741f32fc11979149684e83e919de06\n",
            "Successfully built dul-2021\n",
            "Installing collected packages: dul-2021\n",
            "Successfully installed dul-2021-0.1.0\n"
          ]
        }
      ]
    },
    {
      "cell_type": "code",
      "source": [
        "from dul_2021.utils.hw14_utils import *"
      ],
      "metadata": {
        "id": "ps2KHYH-RPDh"
      },
      "execution_count": 2,
      "outputs": []
    },
    {
      "cell_type": "code",
      "source": [
        "import torch\n",
        "from torch import nn\n",
        "import torch.nn.functional as F\n",
        "from torch.utils.data import DataLoader\n",
        "from torch.optim import Adam\n",
        "\n",
        "import numpy as np\n",
        "from tqdm import trange"
      ],
      "metadata": {
        "id": "4ncIYgiIAO_4"
      },
      "execution_count": 3,
      "outputs": []
    },
    {
      "cell_type": "code",
      "source": [
        "device = torch.device('cuda' if torch.cuda.is_available() else 'cpu')\n",
        "device"
      ],
      "metadata": {
        "id": "-noG_GQSC7L3",
        "outputId": "2e0eba52-e8ef-44d9-c21a-26787c12cd3e",
        "colab": {
          "base_uri": "https://localhost:8080/"
        }
      },
      "execution_count": 4,
      "outputs": [
        {
          "output_type": "execute_result",
          "data": {
            "text/plain": [
              "device(type='cuda')"
            ]
          },
          "metadata": {},
          "execution_count": 4
        }
      ]
    },
    {
      "cell_type": "markdown",
      "source": [
        "# Data"
      ],
      "metadata": {
        "id": "ltOw9b3WV_M2"
      }
    },
    {
      "cell_type": "markdown",
      "source": [
        "Here we will work MNIST dataset which is already preprocessed for meta learning. This dataset comes in a dataloader from. Train loader yields a pair of batch of images (`[2 * N_way * k_shot, 1, 28, 28]`) and batch of labeles (`[2 * N_way * k_shot]`). Where `N_way` means number of classes in each task and `k_shot` means number of samples for each class. Both images and labeles are concatenation of support set (train) and query set (test). You can split them with `split_batch(imgs, targets)`."
      ],
      "metadata": {
        "id": "s0KwsAlGWIUP"
      }
    },
    {
      "cell_type": "code",
      "source": [
        "# data sample example\n",
        "show_imgs()"
      ],
      "metadata": {
        "id": "OXNbz2jQSt0D",
        "outputId": "f76d0993-be21-4274-8211-a111a398c96a",
        "colab": {
          "base_uri": "https://localhost:8080/",
          "height": 710,
          "referenced_widgets": [
            "3bd6e0c1ffb94610ab0765fc3831ba94",
            "a06669fe85d44c35b09b440480f4227b",
            "62905d685e024c65b9e05e572fb44e45",
            "6f1f4878a7114bcfa386a1da5acc606f",
            "a567d751baa640baadb489d1c45f456c",
            "2fd6878deb8a45a7b1e93cad56e93013",
            "41aefd59195e4d7bab312d5d8d966c8c",
            "3cc3b165cad44a8ab6d8fdc70ddf22fb",
            "abdd046d55d74ee3a3b2945bdd93caad",
            "7e2af1295e134ab3b2cc2ae07ffd422f",
            "06fbbaf403874b74b5a724398b0e64ef",
            "0047e073f8de40c0800e12c20ad1042b",
            "5d7072308af4445b98f6ae20708c7989",
            "f2d81a176b3b4a0cb98c9dedaa192227",
            "5b18c5ddaecf473eaa663941641ffa2d",
            "196aa18eea524d19b69f25298cbe8026",
            "cecb57e0c26a4451a72812319da5be7c",
            "975d0f07f20541cab6a85ef7cb686e83",
            "1f4efd7885bd4a8997135d3246aed204",
            "ec810fbf0564438ab7dda47eec8a716d",
            "a5dc882a670242b7bb07258d7a52d5b0",
            "bd00c6d9051e4265a2eb285b4f7386bd",
            "ef3029c8b91a4d50b76d7551a52a061e",
            "56108c481e8b45d5b8b4c6ad0508e26f",
            "f9c07151752b46d58fbd553d94fdaa5d",
            "9c0344e4c9a04f168d33a0ce58d36f98",
            "238fa3efd1bb4f74bd0be7890afb8dea",
            "4017958136304dec9a139572cd0c3953",
            "2472aca99dfe4e068bf4a17dd892b92e",
            "43bbccdb4f374567b43a3c72a6b9dac9",
            "ca2d1eda3aef4be5a04b6105a74969e6",
            "a2a34683845e44b49d567ce761c079e2",
            "0fe19a0c3ffe4930a7ac24caff0eb798",
            "58e03409950c47aeae70ef606925af71",
            "b194b12f5ba541d9a4e3f7d555764142",
            "155b3abf23234e6c9d92fa3f37c95ec3",
            "72877b451c3944c580d11a8b713e7028",
            "d49b951e7f174a008ebcb57f1e1ec298",
            "4b03c564b0ed4a7d90fd349806d5c079",
            "35ea7d09436c4c498581233222ca659f",
            "1b49deb4723b4797a67404a698363a01",
            "6b3a3babcdc6462598076ae8e12efb2e",
            "f6d9f87583bb4b2180cc3cd6a8896d8d",
            "17f2fa8f59014649898f40f3e3c6df0a"
          ]
        }
      },
      "execution_count": 5,
      "outputs": [
        {
          "output_type": "stream",
          "name": "stdout",
          "text": [
            "Downloading http://yann.lecun.com/exdb/mnist/train-images-idx3-ubyte.gz\n",
            "Downloading http://yann.lecun.com/exdb/mnist/train-images-idx3-ubyte.gz to ./MNIST/raw/train-images-idx3-ubyte.gz\n"
          ]
        },
        {
          "output_type": "display_data",
          "data": {
            "text/plain": [
              "  0%|          | 0/9912422 [00:00<?, ?it/s]"
            ],
            "application/vnd.jupyter.widget-view+json": {
              "version_major": 2,
              "version_minor": 0,
              "model_id": "3bd6e0c1ffb94610ab0765fc3831ba94"
            }
          },
          "metadata": {}
        },
        {
          "output_type": "stream",
          "name": "stdout",
          "text": [
            "Extracting ./MNIST/raw/train-images-idx3-ubyte.gz to ./MNIST/raw\n",
            "\n",
            "Downloading http://yann.lecun.com/exdb/mnist/train-labels-idx1-ubyte.gz\n",
            "Downloading http://yann.lecun.com/exdb/mnist/train-labels-idx1-ubyte.gz to ./MNIST/raw/train-labels-idx1-ubyte.gz\n"
          ]
        },
        {
          "output_type": "display_data",
          "data": {
            "text/plain": [
              "  0%|          | 0/28881 [00:00<?, ?it/s]"
            ],
            "application/vnd.jupyter.widget-view+json": {
              "version_major": 2,
              "version_minor": 0,
              "model_id": "0047e073f8de40c0800e12c20ad1042b"
            }
          },
          "metadata": {}
        },
        {
          "output_type": "stream",
          "name": "stdout",
          "text": [
            "Extracting ./MNIST/raw/train-labels-idx1-ubyte.gz to ./MNIST/raw\n",
            "\n",
            "Downloading http://yann.lecun.com/exdb/mnist/t10k-images-idx3-ubyte.gz\n",
            "Downloading http://yann.lecun.com/exdb/mnist/t10k-images-idx3-ubyte.gz to ./MNIST/raw/t10k-images-idx3-ubyte.gz\n"
          ]
        },
        {
          "output_type": "display_data",
          "data": {
            "text/plain": [
              "  0%|          | 0/1648877 [00:00<?, ?it/s]"
            ],
            "application/vnd.jupyter.widget-view+json": {
              "version_major": 2,
              "version_minor": 0,
              "model_id": "ef3029c8b91a4d50b76d7551a52a061e"
            }
          },
          "metadata": {}
        },
        {
          "output_type": "stream",
          "name": "stdout",
          "text": [
            "Extracting ./MNIST/raw/t10k-images-idx3-ubyte.gz to ./MNIST/raw\n",
            "\n",
            "Downloading http://yann.lecun.com/exdb/mnist/t10k-labels-idx1-ubyte.gz\n",
            "Downloading http://yann.lecun.com/exdb/mnist/t10k-labels-idx1-ubyte.gz to ./MNIST/raw/t10k-labels-idx1-ubyte.gz\n"
          ]
        },
        {
          "output_type": "display_data",
          "data": {
            "text/plain": [
              "  0%|          | 0/4542 [00:00<?, ?it/s]"
            ],
            "application/vnd.jupyter.widget-view+json": {
              "version_major": 2,
              "version_minor": 0,
              "model_id": "58e03409950c47aeae70ef606925af71"
            }
          },
          "metadata": {}
        },
        {
          "output_type": "stream",
          "name": "stdout",
          "text": [
            "Extracting ./MNIST/raw/t10k-labels-idx1-ubyte.gz to ./MNIST/raw\n",
            "\n"
          ]
        },
        {
          "output_type": "display_data",
          "data": {
            "text/plain": [
              "<Figure size 576x360 with 2 Axes>"
            ],
            "image/png": "[encoded data removed]"
          },
          "metadata": {
            "needs_background": "light"
          }
        }
      ]
    },
    {
      "cell_type": "markdown",
      "source": [
        "# Question 1. Prototypical Networks\n",
        "\n",
        "\n",
        "The Prototypical Network, or [ProtoNet](https://arxiv.org/pdf/1703.05175.pdf) for short, is a metric-based meta-learning algorithm that operates similarly to the nearest neighbor classification. Metric-based meta-learning methods classify a new example $\\mathbf{x}$ based on some distance function $d_{\\varphi}$ between $x$ and all elements in the support set. ProtoNets implements this idea with the concept of prototypes in a learned feature space. First, ProtoNet uses an embedding function $f_{\\theta}$ to encode each input in the support set into a $L$-dimensional feature vector. Next, for each class $c$, we collect the feature vectors of all examples with label $c$ and average their feature vectors. Formally, we can define this as:\n",
        "\n",
        "$$\\mathbf{v}_c=\\frac{1}{|S_c|}\\sum_{(\\mathbf{x}_i,y_i)\\in S_c}f_{\\theta}(\\mathbf{x}_i)$$\n",
        "\n",
        "where $S_c$ is the part of the support set $S$ for which $y_i=c$, and $\\mathbf{v}_c$ represents the _prototype_ of class $c$. The prototype calculation is visualized below for a 2-dimensional feature space and 3 classes. The colored dots represent encoded support elements with the color-corresponding class labels, and the black dots next to the class label are the averaged prototypes. \n",
        "\n",
        "![Screenshot 2022-03-09 at 18.36.16.png](data:image/png;base64,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)\n",
        "\n",
        "Based on these prototypes, we want to classify a new example. Remember that since we want to learn the encoding function $f_{\\theta}$, this classification must be differentiable, and hence, we need to define a probability distribution across classes. For this, we will make use of the distance function $d_{\\varphi}$: the closer a new example $\\mathbf{x}$ is to a prototype $\\mathbf{v}_c$, the higher the probability for $\\mathbf{x}$ belonging to class $c$. Formally, we can simply use a softmax over the distances of $\\mathbf{x}$ to all class prototypes:\n",
        "\n",
        "$$p(y=c\\vert\\mathbf{x})=\\text{softmax}(-d_{\\varphi}(f_{\\theta}(\\mathbf{x}), \\mathbf{v}_c))=\\frac{\\exp\\left(-d_{\\varphi}(f_{\\theta}(\\mathbf{x}), \\mathbf{v}_c)\\right)}{\\sum_{c'\\in \\mathcal{C}}\\exp\\left(-d_{\\varphi}(f_{\\theta}(\\mathbf{x}), \\mathbf{v}_{c'})\\right)}$$\n",
        "\n",
        "Note that the negative sign is necessary since we want to increase the probability for close-by vectors and have a low probability for distant vectors. We train the network $f_{\\theta}$ based on the cross-entropy error of the training query set examples. Thereby, the gradient flows through both the prototypes $\\mathbf{v}_c$ and the query set encodings $f_{\\theta}(\\mathbf{x})$. For the distance function $d_{\\varphi}$, we can choose any function as long as it is differentiable concerning both of its inputs. The most common function, which we also use here, is the squared euclidean distance, but there have been several works on different distance functions as well."
      ],
      "metadata": {
        "id": "KrP8SEQAVAVm"
      }
    },
    {
      "cell_type": "markdown",
      "source": [
        "\n",
        "* We will work with 4-way 4-shot classifications during training and 3-way 4-shot classification during test\n",
        "\n",
        "* You can use architecture from practice\n",
        "\n",
        "**Hyperparameters**\n",
        "\n",
        "* lr = 1e-3\n",
        "* num_epochs = 20\n",
        "\n",
        "\n",
        "\n",
        "**You will provide the following deliverables**\n",
        "\n",
        "\n",
        "1. Over the course of training, record loss ber batch.\n",
        "2. Model with a `adapt_few_shots` method\n",
        "\n",
        "**adapt_few_shots**\n",
        "\n",
        "```\n",
        "@torch.no_grad()\n",
        "def adapt_few_shots(self, batch, dloader):\n",
        "    \"\"\"\n",
        "    batch: n-way_test k-shot_test batch (pair) of images ([k_shot_test * n-way_test, 1, 28, 28]) \\\\\n",
        "            and labeles [k_shot_test * n-way_test])\n",
        "    dloader: dataloader for the test set. yields batches of images ([batch_size, 1, 28, 28])\\\\\n",
        "              with their labelel ([batch_size])\n",
        "\n",
        "     returns pred: np.array of predicted classed for each images in dloader (don't shuffle it)\n",
        "    \"\"\"\n",
        "    \n",
        "    return pred\n",
        "```"
      ],
      "metadata": {
        "id": "01uB2I67V83C"
      }
    },
    {
      "cell_type": "code",
      "source": [
        "x = torch.randn(3, 2)\n",
        "y = torch.randn(4, 2)\n",
        "torch.cdist(x, y)"
      ],
      "metadata": {
        "id": "LtrNvJ5sN-hG",
        "outputId": "9e4a1153-3d94-4f81-c57e-1bf0fb9f97ce",
        "colab": {
          "base_uri": "https://localhost:8080/"
        }
      },
      "execution_count": 6,
      "outputs": [
        {
          "output_type": "execute_result",
          "data": {
            "text/plain": [
              "tensor([[0.7308, 1.2145, 2.4725, 0.9184],\n",
              "        [1.9638, 2.6774, 0.7332, 1.5330],\n",
              "        [2.8739, 3.7461, 1.2982, 2.2112]])"
            ]
          },
          "metadata": {},
          "execution_count": 6
        }
      ]
    },
    {
      "cell_type": "code",
      "source": [
        "class ProtoNet(nn.Module):\n",
        "  def __init__(self, latent_dim=32):\n",
        "    super().__init__()\n",
        "\n",
        "    self.latent_dim = latent_dim\n",
        "\n",
        "    self.net = nn.Sequential(\n",
        "      nn.Conv2d(1, 64, 3),\n",
        "      nn.BatchNorm2d(64, momentum=1, affine=True),\n",
        "      nn.ReLU(inplace=True),\n",
        "      nn.MaxPool2d(2, 2),\n",
        "      nn.Conv2d(64, 64, 3),\n",
        "      nn.BatchNorm2d(64, momentum=1, affine=True),\n",
        "      nn.ReLU(inplace=True),\n",
        "      nn.MaxPool2d(2, 2),\n",
        "      nn.Conv2d(64, 64, 3),\n",
        "      nn.BatchNorm2d(64, momentum=1, affine=True),\n",
        "      nn.ReLU(inplace=True),\n",
        "      nn.MaxPool2d(2, 2),\n",
        "      nn.Flatten(),\n",
        "      nn.Linear(64, latent_dim)\n",
        "    )\n",
        "  \n",
        "  def forward(self, x):\n",
        "    return self.net(x)\n",
        "\n",
        "  def calc_prototypes(self, imgs, labels):\n",
        "    unique_labels = torch.unique(labels)\n",
        "    embs = self(imgs)\n",
        "\n",
        "    prototypes = torch.zeros(len(unique_labels), self.latent_dim, device=device)\n",
        "\n",
        "    for i, c in enumerate(unique_labels):\n",
        "      prototypes[i] = embs[labels == c].mean(dim=0)\n",
        "\n",
        "    return prototypes, unique_labels\n",
        "\n",
        "  def fit(self, train_dataloader, lr=1e-3, num_epochs=20):\n",
        "    optimizer = Adam(self.parameters(), lr=lr)\n",
        "\n",
        "    losses = []\n",
        "\n",
        "    for epoch in trange(num_epochs, desc='Training'):\n",
        "      for imgs, labels in train_dataloader:\n",
        "        imgs, labels = imgs.to(device), labels.to(device)\n",
        "        imgs_support, imgs_query = imgs.chunk(2, dim=0)\n",
        "        labels_support, labels_query = labels.chunk(2, dim=0)\n",
        "        \n",
        "        prototypes, ul_support = self.calc_prototypes(imgs_support, labels_support)\n",
        "        \n",
        "        _, ul_query_idx = torch.unique(labels_query, return_inverse=True)\n",
        "\n",
        "        query_embs = self(imgs_query)\n",
        "        d = torch.cdist(query_embs, prototypes)\n",
        "        log_p = F.log_softmax(-d, dim=-1)\n",
        "        #reorder according to query labels\n",
        "        log_p = log_p[torch.arange(len(log_p)), ul_query_idx]\n",
        "\n",
        "        loss = 0\n",
        "        for label in ul_support:\n",
        "          cur_mask = labels_query == label\n",
        "          loss += log_p[cur_mask].mean()\n",
        "\n",
        "        optimizer.zero_grad()\n",
        "        loss.backward()\n",
        "        optimizer.step()\n",
        "\n",
        "        losses.append(loss.item())\n",
        "    return np.array(losses)\n",
        "\n",
        "    def predict(self, batch, prototypes):\n",
        "      imgs, labels = batch\n",
        "      embs = self(imgs)\n",
        "\n",
        "      return torch.cdist(embs, prototypes).argmin(dim=-1)\n",
        "\n",
        "    @torch.no_grad()\n",
        "    def adapt_few_shots(self, batch, dloader):\n",
        "        self.eval()\n",
        "\n",
        "        imgs, labels = batch\n",
        "        prototypes, unique_labels = self.calc_prototypes(batch, labels)\n",
        "\n",
        "        preds = []\n",
        "        for batch, _ in dloader:\n",
        "            batch = batch.to(device)\n",
        "            pred_idx = self.predict(batch, prototypes)\n",
        "            predictions.append(unique_labels[pred_idx].cpu().numpy())\n",
        "\n",
        "        self.train()\n",
        "        return np.hstack(predictions)\n"
      ],
      "metadata": {
        "id": "x2y3vGHmCdao"
      },
      "execution_count": 14,
      "outputs": []
    },
    {
      "cell_type": "code",
      "source": [
        "def q1(train_data_loader):\n",
        "    \"\"\"\n",
        "    train_data_loader: dataloader 4-way 4-shot classification\n",
        "\n",
        "    Returns\n",
        "    - a (# of training iterations, ) numpy array  losses on each iteration\n",
        "    - model with a adapt_few_shots method\n",
        "    \"\"\"\n",
        "    model = ProtoNet().to(device)\n",
        "    losses = model.fit(train_data_loader, num_epochs=1)\n",
        "    \n",
        "    return losses, model"
      ],
      "metadata": {
        "id": "v3neKPxpZImJ"
      },
      "execution_count": 15,
      "outputs": []
    },
    {
      "cell_type": "code",
      "source": [
        "q1_results(q1)"
      ],
      "metadata": {
        "colab": {
          "base_uri": "https://localhost:8080/",
          "height": 606
        },
        "id": "nEMeOl0sDYwb",
        "outputId": "66381d0c-20ef-47ff-e9cf-6131eef99ef1"
      },
      "execution_count": 16,
      "outputs": [
        {
          "output_type": "stream",
          "name": "stderr",
          "text": [
            "Training: 100%|██████████| 1/1 [00:36<00:00, 36.82s/it]\n"
          ]
        },
        {
          "output_type": "error",
          "ename": "AttributeError",
          "evalue": "ignored",
          "traceback": [
            "\u001b[0;31m---------------------------------------------------------------------------\u001b[0m",
            "\u001b[0;31mAttributeError\u001b[0m                            Traceback (most recent call last)",
            "\u001b[0;32m<ipython-input-16-5f2b2c180ef1>\u001b[0m in \u001b[0;36m<module>\u001b[0;34m()\u001b[0m\n\u001b[0;32m----> 1\u001b[0;31m \u001b[0mq1_results\u001b[0m\u001b[0;34m(\u001b[0m\u001b[0mq1\u001b[0m\u001b[0;34m)\u001b[0m\u001b[0;34m\u001b[0m\u001b[0;34m\u001b[0m\u001b[0m\n\u001b[0m",
            "\u001b[0;32m/content/dul_2021/utils/hw14_utils.py\u001b[0m in \u001b[0;36mq1_results\u001b[0;34m(q1)\u001b[0m\n\u001b[1;32m    194\u001b[0m     \u001b[0mplot_training\u001b[0m\u001b[0;34m(\u001b[0m\u001b[0mlosses\u001b[0m\u001b[0;34m)\u001b[0m\u001b[0;34m\u001b[0m\u001b[0;34m\u001b[0m\u001b[0m\n\u001b[1;32m    195\u001b[0m \u001b[0;34m\u001b[0m\u001b[0m\n\u001b[0;32m--> 196\u001b[0;31m     \u001b[0mprint\u001b[0m\u001b[0;34m(\u001b[0m\u001b[0;34mf\"test accuracy={test(model, test_data_loader, test_set, samples=10):.4f}\"\u001b[0m\u001b[0;34m)\u001b[0m\u001b[0;34m\u001b[0m\u001b[0;34m\u001b[0m\u001b[0m\n\u001b[0m\u001b[1;32m    197\u001b[0m \u001b[0;34m\u001b[0m\u001b[0m\n\u001b[1;32m    198\u001b[0m \u001b[0;34m\u001b[0m\u001b[0m\n",
            "\u001b[0;32m/content/dul_2021/utils/hw14_utils.py\u001b[0m in \u001b[0;36mtest\u001b[0;34m(net, test_data_loader, test_data, samples)\u001b[0m\n\u001b[1;32m    171\u001b[0m         \u001b[0;32mif\u001b[0m \u001b[0mi\u001b[0m \u001b[0;34m>=\u001b[0m \u001b[0msamples\u001b[0m\u001b[0;34m:\u001b[0m\u001b[0;34m\u001b[0m\u001b[0;34m\u001b[0m\u001b[0m\n\u001b[1;32m    172\u001b[0m             \u001b[0;32mbreak\u001b[0m\u001b[0;34m\u001b[0m\u001b[0;34m\u001b[0m\u001b[0m\n\u001b[0;32m--> 173\u001b[0;31m         \u001b[0my_pred\u001b[0m \u001b[0;34m=\u001b[0m \u001b[0mnet\u001b[0m\u001b[0;34m.\u001b[0m\u001b[0madapt_few_shots\u001b[0m\u001b[0;34m(\u001b[0m\u001b[0mbatch\u001b[0m\u001b[0;34m,\u001b[0m \u001b[0mfull_loader\u001b[0m\u001b[0;34m)\u001b[0m\u001b[0;34m\u001b[0m\u001b[0;34m\u001b[0m\u001b[0m\n\u001b[0m\u001b[1;32m    174\u001b[0m         \u001b[0maccs\u001b[0m\u001b[0;34m.\u001b[0m\u001b[0mappend\u001b[0m\u001b[0;34m(\u001b[0m\u001b[0;34m(\u001b[0m\u001b[0my_pred\u001b[0m \u001b[0;34m==\u001b[0m \u001b[0mtest_data\u001b[0m\u001b[0;34m.\u001b[0m\u001b[0mtargets\u001b[0m\u001b[0;34m.\u001b[0m\u001b[0mnumpy\u001b[0m\u001b[0;34m(\u001b[0m\u001b[0;34m)\u001b[0m\u001b[0;34m)\u001b[0m\u001b[0;34m.\u001b[0m\u001b[0mmean\u001b[0m\u001b[0;34m(\u001b[0m\u001b[0;34m)\u001b[0m\u001b[0;34m)\u001b[0m\u001b[0;34m\u001b[0m\u001b[0;34m\u001b[0m\u001b[0m\n\u001b[1;32m    175\u001b[0m     \u001b[0;32mreturn\u001b[0m \u001b[0mnp\u001b[0m\u001b[0;34m.\u001b[0m\u001b[0mmean\u001b[0m\u001b[0;34m(\u001b[0m\u001b[0maccs\u001b[0m\u001b[0;34m)\u001b[0m\u001b[0;34m\u001b[0m\u001b[0;34m\u001b[0m\u001b[0m\n",
            "\u001b[0;32m/usr/local/lib/python3.7/dist-packages/torch/nn/modules/module.py\u001b[0m in \u001b[0;36m__getattr__\u001b[0;34m(self, name)\u001b[0m\n\u001b[1;32m   1176\u001b[0m                 \u001b[0;32mreturn\u001b[0m \u001b[0mmodules\u001b[0m\u001b[0;34m[\u001b[0m\u001b[0mname\u001b[0m\u001b[0;34m]\u001b[0m\u001b[0;34m\u001b[0m\u001b[0;34m\u001b[0m\u001b[0m\n\u001b[1;32m   1177\u001b[0m         raise AttributeError(\"'{}' object has no attribute '{}'\".format(\n\u001b[0;32m-> 1178\u001b[0;31m             type(self).__name__, name))\n\u001b[0m\u001b[1;32m   1179\u001b[0m \u001b[0;34m\u001b[0m\u001b[0m\n\u001b[1;32m   1180\u001b[0m     \u001b[0;32mdef\u001b[0m \u001b[0m__setattr__\u001b[0m\u001b[0;34m(\u001b[0m\u001b[0mself\u001b[0m\u001b[0;34m,\u001b[0m \u001b[0mname\u001b[0m\u001b[0;34m:\u001b[0m \u001b[0mstr\u001b[0m\u001b[0;34m,\u001b[0m \u001b[0mvalue\u001b[0m\u001b[0;34m:\u001b[0m \u001b[0mUnion\u001b[0m\u001b[0;34m[\u001b[0m\u001b[0mTensor\u001b[0m\u001b[0;34m,\u001b[0m \u001b[0;34m'Module'\u001b[0m\u001b[0;34m]\u001b[0m\u001b[0;34m)\u001b[0m \u001b[0;34m->\u001b[0m \u001b[0;32mNone\u001b[0m\u001b[0;34m:\u001b[0m\u001b[0;34m\u001b[0m\u001b[0;34m\u001b[0m\u001b[0m\n",
            "\u001b[0;31mAttributeError\u001b[0m: 'ProtoNet' object has no attribute 'adapt_few_shots'"
          ]
        },
        {
          "output_type": "display_data",
          "data": {
            "text/plain": [
              "<Figure size 432x288 with 1 Axes>"
            ],
            "image/png": "[encoded data removed]"
          },
          "metadata": {
            "needs_background": "light"
          }
        }
      ]
    },
    {
      "cell_type": "markdown",
      "source": [
        "# Bonus. [ProtoMaml](https://arxiv.org/pdf/1903.03096.pdf)"
      ],
      "metadata": {
        "id": "j6FPfl3oWaRY"
      }
    },
    {
      "cell_type": "markdown",
      "source": [
        "A problem of MAML is how to design the output classification layer. In case all tasks have a different number of classes, we need to initialize the output layer with zeros or randomly in every iteration. Even if we always have the same number of classes, we just start from random predictions. This requires several inner loop steps to reach a reasonable classification result. To overcome this problem we can use prototypes to initialize our output layer to have a strong initialization. Thereby, it can be shown that the softmax over euclidean distances can be reformulated as a linear layer with softmax. To see this, let's first write out the negative Euclidean distance between a feature vector $f_{\\theta}(\\mathbf{x}^{*})$ of a new data point $\\mathbf{x}^{*}$ to a prototype $\\mathbf{v}_c$ of class $c$:\n",
        "\n",
        "$$\n",
        "-||f_{\\theta}(\\mathbf{x}^{*})-\\mathbf{v}_c||^2=-f_{\\theta}(\\mathbf{x}^{*})^Tf_{\\theta}(\\mathbf{x}^{*})+2\\mathbf{v}_c^{T}f_{\\theta}(\\mathbf{x}^{*})-\\mathbf{v}_c^T\\mathbf{v}_c\n",
        "$$\n",
        "\n",
        "We perform the classification across all classes $c\\in\\mathcal{C}$ and take a softmax on the distance. Hence, any term that is the same for all classes can be removed without changing the output probabilities. In the equation above, this is true for $-f_{\\theta}(\\mathbf{x}^{*})^Tf_{\\theta}(\\mathbf{x}^{*})$ since it is independent of any class prototype. Thus, we can write:\n",
        "\n",
        "$$\n",
        "-||f_{\\theta}(\\mathbf{x}^{*})-\\mathbf{v}_c||^2=2\\mathbf{v}_c^{T}f_{\\theta}(\\mathbf{x}^{*})-||\\mathbf{v}_c||^2+\\text{constant}\n",
        "$$\n",
        "\n",
        "Taking a second look at the equation above, it looks a lot like a linear layer. For this, we use $\\mathbf{W}_{c,\\cdot}=2\\mathbf{v}_c$ and $b_c=-||\\mathbf{v}_c||^2$ which gives us the linear layer $\\mathbf{W}f_{\\theta}(\\mathbf{x}^{*})+\\mathbf{b}$. Hence, if we initialize the output weight with twice the prototypes, and the biases by the negative squared L2 norm of the prototypes, we start with a Prototypical Network. MAML allows us to adapt this layer and the rest of the network further. "
      ],
      "metadata": {
        "id": "RTWI8AXab-SX"
      }
    },
    {
      "cell_type": "markdown",
      "source": [
        "* We will work with 2-way 4-shot classifications during training and 2-way 4-shot classification during test. However, dataloader will yield larger batches, which you need to reshape into `[batch_size, 2 * n-way * k-shot, 1, 28, 28]`\n",
        "\n",
        "* You can use architecture from practice\n",
        "\n",
        "* You can use higher or use first order approximation of gradients. This means that the second-order gradients are ignored, and we can calculate the outer loop gradients (line 10 in algorithm 2) simply by calculating the gradients with respect to $\\theta_i'$ and use those as an update to $\\theta$. Hence, the new update rule becomes:\n",
        "\n",
        "$$\n",
        "\\theta\\leftarrow\\theta-\\beta\\sum_{\\mathcal{T}_i\\sim p(\\mathcal{T})}\\nabla_{\\theta_i'}\\mathcal{L}_{\\mathcal{T}_i}(f_{\\theta_i'})\n",
        "$$\n",
        "\n",
        "Note the change of $\\theta$ to $\\theta_i'$ for $\\nabla$.\n",
        "\n",
        "\n",
        "**You will provide the following deliverables**\n",
        "\n",
        "\n",
        "1. Over the course of training, record loss ber batch.\n",
        "2. Model with a `adapt_few_shots` method\n",
        "\n",
        "**adapt_few_shots**\n",
        "\n",
        "```\n",
        "@torch.no_grad()\n",
        "def adapt_few_shots(self, batch, dloader):\n",
        "    \"\"\"\n",
        "    batch: n-way_test k-shot_test batch (pair) of images ([k_shot_test * n-way_test, 1, 28, 28]) \\\\\n",
        "            and labeles [k_shot_test * n-way_test])\n",
        "    dloader: dataloader for the test set. yields batches of images ([batch_size, 1, 28, 28])\\\\\n",
        "              with their labelel ([batch_size])\n",
        "\n",
        "     returns pred: np.array of predicted classed for each images in dloader (don't shuffle it)\n",
        "    \"\"\"\n",
        "    \n",
        "    return pred\n",
        "```"
      ],
      "metadata": {
        "id": "i6LzY3Q0dmJH"
      }
    },
    {
      "cell_type": "code",
      "source": [
        "def b(train_data_loader):\n",
        "    \"\"\"\n",
        "    train_data_loader: dataloader 16-way 4-shot classification\n",
        "\n",
        "    Returns\n",
        "    - a (# of training iterations, ) numpy array  losses on each iteration\n",
        "    - model with a adapt_few_shots method\n",
        "    \"\"\""
      ],
      "metadata": {
        "id": "9-QEls-BdlzA"
      },
      "execution_count": null,
      "outputs": []
    },
    {
      "cell_type": "code",
      "source": [
        "b_results(b)"
      ],
      "metadata": {
        "id": "VL7bRHM5G0Yy"
      },
      "execution_count": null,
      "outputs": []
    }
  ]
}