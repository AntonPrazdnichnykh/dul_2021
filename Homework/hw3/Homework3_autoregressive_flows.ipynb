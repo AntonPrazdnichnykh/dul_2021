{
  "nbformat": 4,
  "nbformat_minor": 0,
  "metadata": {
    "colab": {
      "name": "Копия блокнота \"Homework3_autoregressive_flows.ipynb\"",
      "provenance": [],
      "collapsed_sections": [],
      "include_colab_link": true
    },
    "kernelspec": {
      "name": "python3",
      "display_name": "Python 3"
    },
    "accelerator": "GPU"
  },
  "cells": [
    {
      "cell_type": "markdown",
      "metadata": {
        "id": "view-in-github",
        "colab_type": "text"
      },
      "source": [
        "<a href=\"https://colab.research.google.com/github/AntonPrazdnichnykh/dul_2021/blob/hw3/Homework/hw3/Homework3_autoregressive_flows.ipynb\" target=\"_parent\"><img src=\"https://colab.research.google.com/assets/colab-badge.svg\" alt=\"Open In Colab\"/></a>"
      ]
    },
    {
      "cell_type": "code",
      "metadata": {
        "colab": {
          "base_uri": "https://localhost:8080/"
        },
        "id": "5T5kr7L2Zr8f",
        "outputId": "27a2eae9-53bd-4124-e25c-efc07c41da57"
      },
      "source": [
        "!nvidia-smi"
      ],
      "execution_count": 2,
      "outputs": [
        {
          "output_type": "stream",
          "name": "stdout",
          "text": [
            "Tue Nov 23 20:05:03 2021       \n",
            "+-----------------------------------------------------------------------------+\n",
            "| NVIDIA-SMI 495.44       Driver Version: 460.32.03    CUDA Version: 11.2     |\n",
            "|-------------------------------+----------------------+----------------------+\n",
            "| GPU  Name        Persistence-M| Bus-Id        Disp.A | Volatile Uncorr. ECC |\n",
            "| Fan  Temp  Perf  Pwr:Usage/Cap|         Memory-Usage | GPU-Util  Compute M. |\n",
            "|                               |                      |               MIG M. |\n",
            "|===============================+======================+======================|\n",
            "|   0  Tesla K80           Off  | 00000000:00:04.0 Off |                    0 |\n",
            "| N/A   34C    P8    28W / 149W |      0MiB / 11441MiB |      0%      Default |\n",
            "|                               |                      |                  N/A |\n",
            "+-------------------------------+----------------------+----------------------+\n",
            "                                                                               \n",
            "+-----------------------------------------------------------------------------+\n",
            "| Processes:                                                                  |\n",
            "|  GPU   GI   CI        PID   Type   Process name                  GPU Memory |\n",
            "|        ID   ID                                                   Usage      |\n",
            "|=============================================================================|\n",
            "|  No running processes found                                                 |\n",
            "+-----------------------------------------------------------------------------+\n"
          ]
        }
      ]
    },
    {
      "cell_type": "code",
      "metadata": {
        "id": "wUVy2glDtoaR",
        "colab": {
          "base_uri": "https://localhost:8080/"
        },
        "outputId": "7c5ac4d5-3cab-42d7-d3eb-0c206ef726a7"
      },
      "source": [
        "!if [ -d dul_2021 ]; then rm -Rf dul_2021; fi\n",
        "!git clone --single-branch https://github.com/GrigoryBartosh/dul_2021\n",
        "!pip install ./dul_2021"
      ],
      "execution_count": 1,
      "outputs": [
        {
          "output_type": "stream",
          "name": "stdout",
          "text": [
            "Cloning into 'dul_2021'...\n",
            "remote: Enumerating objects: 180, done.\u001b[K\n",
            "remote: Counting objects: 100% (180/180), done.\u001b[K\n",
            "remote: Compressing objects: 100% (119/119), done.\u001b[K\n",
            "remote: Total 180 (delta 80), reused 130 (delta 43), pack-reused 0\u001b[K\n",
            "Receiving objects: 100% (180/180), 28.69 MiB | 26.74 MiB/s, done.\n",
            "Resolving deltas: 100% (80/80), done.\n",
            "Processing ./dul_2021\n",
            "\u001b[33m  DEPRECATION: A future pip version will change local packages to be built in-place without first copying to a temporary directory. We recommend you use --use-feature=in-tree-build to test your packages with this new behavior before it becomes the default.\n",
            "   pip 21.3 will remove support for this functionality. You can find discussion regarding this at https://github.com/pypa/pip/issues/7555.\u001b[0m\n",
            "Building wheels for collected packages: dul-2021\n",
            "  Building wheel for dul-2021 (setup.py) ... \u001b[?25l\u001b[?25hdone\n",
            "  Created wheel for dul-2021: filename=dul_2021-0.1.0-py3-none-any.whl size=15097 sha256=7739b69c3201dce1a338a32c3670b9d0dc6aae1ca8ddf440c69435e1f162c8b1\n",
            "  Stored in directory: /tmp/pip-ephem-wheel-cache-le5p0uov/wheels/55/59/29/0fb1c635652157734f4d741f32fc11979149684e83e919de06\n",
            "Successfully built dul-2021\n",
            "Installing collected packages: dul-2021\n",
            "Successfully installed dul-2021-0.1.0\n"
          ]
        }
      ]
    },
    {
      "cell_type": "code",
      "metadata": {
        "id": "ZHWosWrbpO5Y"
      },
      "source": [
        "from dul_2021.utils.hw3_utils import *"
      ],
      "execution_count": 1,
      "outputs": []
    },
    {
      "cell_type": "code",
      "metadata": {
        "id": "l8_FBTqOtI6z"
      },
      "source": [
        "import torch\n",
        "from torch import nn\n",
        "import torch.nn.functional as F\n",
        "from torch.optim import Adam\n",
        "# from tqdm.notebook import tqdm\n",
        "from tqdm import trange\n",
        "from torch.utils.data import DataLoader\n",
        "from torch.distributions.uniform import Uniform\n",
        "from torch.distributions.normal import Normal\n",
        "from scipy.stats import norm\n",
        "from scipy.optimize import bisect"
      ],
      "execution_count": 2,
      "outputs": []
    },
    {
      "cell_type": "code",
      "metadata": {
        "id": "-CBW3WK3J2sB"
      },
      "source": [
        "import matplotlib.pyplot as plt"
      ],
      "execution_count": 3,
      "outputs": []
    },
    {
      "cell_type": "markdown",
      "metadata": {
        "id": "bk6l6G30tEIg"
      },
      "source": [
        "\n",
        "# Question 1: Autoregressive Flows for Images\n",
        "\n",
        "Adapt your PixelCNN implementation from Homework 2 and use it as an autoregressive flow model on the black-and-white shapes dataset. Using the base architecture from Homework 2 1(a), output a mixture of logistics or gaussians (instead of logits), whose CDF we will use as our flow for each dimension of x. \n",
        "\n",
        "Remember: you must dequantize the data and scale it between 0 and 1 for the autoregressive flow to have stable training. \n",
        "\n",
        "**You will provide these deliverables**\n",
        "\n",
        "1.   Over the course of training, record the average negative log-likelihood (nats / dim) of the training data (per minibatch) and test data (for your entire test set). Code is provided that automatically plots the training curves. **Make sure to account for any rescaling you do in your nats/dim.**\n",
        "2.   Report the final test set performance of your final model\n",
        "3. 100 samples from your autoregressive flow. Our plotting code will show your samples, with and without clipping and flooring (to remove the quantization). \n"
      ]
    },
    {
      "cell_type": "code",
      "metadata": {
        "id": "alF9C1t-tEys",
        "colab": {
          "base_uri": "https://localhost:8080/",
          "height": 264
        },
        "outputId": "71c73a38-b74c-4c6f-8640-51c8898319e6"
      },
      "source": [
        "visualize_q1_data()"
      ],
      "execution_count": 4,
      "outputs": [
        {
          "output_type": "display_data",
          "data": {
            "image/png": "[encoded data removed]",
            "text/plain": [
              "<Figure size 432x288 with 1 Axes>"
            ]
          },
          "metadata": {
            "needs_background": "light"
          }
        }
      ]
    },
    {
      "cell_type": "markdown",
      "metadata": {
        "id": "fHHxHqSJTSAa"
      },
      "source": [
        "### Solution\n",
        "Fill out the function below and return the necessary arguments. Feel free to create more cells if need be."
      ]
    },
    {
      "cell_type": "code",
      "metadata": {
        "colab": {
          "base_uri": "https://localhost:8080/"
        },
        "id": "KDMNFU1zfJ80",
        "outputId": "b9f434e2-049e-4d00-d0ce-330ac66679c6"
      },
      "source": [
        "device = torch.device('cuda') if torch.cuda.is_available() else torch.device('cpu')\n",
        "device"
      ],
      "execution_count": 5,
      "outputs": [
        {
          "output_type": "execute_result",
          "data": {
            "text/plain": [
              "device(type='cuda')"
            ]
          },
          "metadata": {},
          "execution_count": 5
        }
      ]
    },
    {
      "cell_type": "code",
      "metadata": {
        "id": "G7mN9AjUrLJX"
      },
      "source": [
        "class MaskedConv2d(nn.Conv2d):\n",
        "  def __init__(self, mask_type, *args, **kwargs):\n",
        "    assert mask_type in ['A', 'B'], \"Possible mask types are A and B\"\n",
        "    super().__init__(*args, **kwargs)\n",
        "    out_channels, in_channels, h, w = self.weight.size()\n",
        "   \n",
        "    self.register_buffer('mask', torch.ones_like(self.weight))\n",
        "    if mask_type == 'A':\n",
        "      self.mask[:, :, h // 2, w // 2:] = 0\n",
        "      self.mask[:, :, h // 2 + 1:, :] = 0\n",
        "    else:\n",
        "      self.mask[: ,: , h // 2, w // 2 + 1:] = 0\n",
        "      self.mask[:, :, h // 2 + 1:, :] = 0\n",
        "      \n",
        "\n",
        "  def forward(self, x):\n",
        "    self.weight.data *= self.mask\n",
        "    return super().forward(x)\n"
      ],
      "execution_count": 6,
      "outputs": []
    },
    {
      "cell_type": "code",
      "metadata": {
        "id": "MwovMTmTrSCv"
      },
      "source": [
        "class ResidualBlock(nn.Module):\n",
        "  def __init__(self, in_channels, out_channels, kernel_size):\n",
        "    assert out_channels % 2 == 0\n",
        "    super().__init__()\n",
        "    self.net = nn.Sequential(\n",
        "        MaskedConv2d('B', in_channels, out_channels // 2, 1),\n",
        "        nn.ReLU(),\n",
        "        MaskedConv2d('B', out_channels // 2, out_channels // 2, kernel_size, padding='same', bias=False),\n",
        "        nn.ReLU(),\n",
        "        MaskedConv2d('B', out_channels // 2, out_channels, 1),\n",
        "        nn.ReLU()\n",
        "        )\n",
        "    \n",
        "  def forward(self, x):\n",
        "    return x + self.net(x)"
      ],
      "execution_count": 7,
      "outputs": []
    },
    {
      "cell_type": "code",
      "metadata": {
        "id": "Jro-Rr-jrpSb"
      },
      "source": [
        "class PixelCNN(nn.Module):\n",
        "  def __init__(self, n_blocks, in_channels, n_channels, out_channels):\n",
        "    super().__init__()\n",
        "\n",
        "    self.net = nn.Sequential(\n",
        "        MaskedConv2d('A', in_channels, n_channels, kernel_size=7, padding='same'),\n",
        "        nn.ReLU(),\n",
        "        *[ResidualBlock(n_channels, n_channels, 7) for _ in range(n_blocks)],\n",
        "        MaskedConv2d('B', n_channels, out_channels * in_channels, 1)\n",
        "    )\n",
        "\n",
        "  def forward(self, x):\n",
        "    return self.net(x)\n"
      ],
      "execution_count": 8,
      "outputs": []
    },
    {
      "cell_type": "code",
      "metadata": {
        "id": "K2rNll6RUoQB"
      },
      "source": [
        "class FlowModel(nn.Module):\n",
        "    def test(self, test_loader):\n",
        "        self.eval()\n",
        "        total_loss = 0\n",
        "        tc = 0\n",
        "        with torch.no_grad():\n",
        "            for x in test_loader:\n",
        "                x = x.to(device).float()\n",
        "                loss = self.nll(x)\n",
        "                total_loss += loss * x.shape[0]\n",
        "                tc += x.shape[0]\n",
        "        self.train()\n",
        "        return total_loss.item() / tc\n",
        "\n",
        "    def fit(self, train_data, test_data, num_epochs=100, lr=5e-3, batch_size=128):\n",
        "        train_loader = DataLoader(train_data, batch_size=batch_size, shuffle=True)\n",
        "        test_loader = DataLoader(test_data, batch_size=batch_size)\n",
        "\n",
        "        optim = Adam(self.parameters(), lr=lr)\n",
        "\n",
        "        train_losses = []\n",
        "        test_losses = []\n",
        "\n",
        "        test_losses.append(self.test(test_loader))\n",
        "\n",
        "        for epoch in trange(num_epochs, desc='training'):\n",
        "            avg_loss = 0\n",
        "            n_samples = 0\n",
        "            for x in train_loader:\n",
        "                bs = x.size(0)\n",
        "                x = x.to(device).float()\n",
        "                loss = self.nll(x)\n",
        "                avg_loss += bs * loss.item()\n",
        "                n_samples += bs\n",
        "                optim.zero_grad()\n",
        "                loss.backward()\n",
        "                optim.step()\n",
        "\n",
        "            train_losses.append(avg_loss / n_samples)\n",
        "            test_losses.append(self.test(test_loader))\n",
        "\n",
        "        return train_losses, test_losses\n",
        "\n",
        "    def nll(self, x):\n",
        "        raise NotImplementedError()\n",
        "\n",
        "    def flow(self, x):\n",
        "        raise NotImplementedError()\n",
        "\n",
        "    def inverse(self, z):\n",
        "        raise NotImplementedError()\n",
        "\n",
        "    def log_prob(self, x):\n",
        "        raise NotImplementedError()\n",
        "        \n",
        "    def get_density(self):\n",
        "        x = np.linspace(self.plot_b[0], self.plot_b[1], 1000)\n",
        "        with torch.no_grad():\n",
        "            y = self.log_prob(torch.FloatTensor(x)).exp().cpu().numpy()\n",
        "        return x, y\n"
      ],
      "execution_count": 9,
      "outputs": []
    },
    {
      "cell_type": "code",
      "metadata": {
        "id": "SmCmouWvOaG7"
      },
      "source": [
        "class ARFlow(FlowModel):\n",
        "    def __init__(self, n_blocks=8, in_channels=1, n_channels=120, k2=5):\n",
        "        super().__init__()\n",
        "        self.pixel_cnn = PixelCNN(n_blocks, in_channels, n_channels, out_channels=3 * k2)\n",
        "        self.pixel_cnn.to(device)\n",
        "        self.k2 = k2\n",
        "        self.bdist = Uniform(torch.tensor([0.], device=device), torch.tensor([1.], device=device))\n",
        "\n",
        "    def flow(self, x):\n",
        "        mu, log_s, log_w = torch.chunk(self.pixel_cnn(x), 3, dim=1)\n",
        "        w = F.softmax(log_w, dim=1)\n",
        "        mix_dist = Normal(mu, log_s.exp())\n",
        "\n",
        "        x_ = x.repeat(1, self.k2, 1, 1)\n",
        "\n",
        "        z = (w * mix_dist.cdf(x_)).sum(dim=1)\n",
        "        log_det = (w * mix_dist.log_prob(x_).exp()).sum(dim=1).log() - torch.tensor([2.], device=device).log()\n",
        "\n",
        "        return z, log_det\n",
        "\n",
        "    def inverse(self, w, mu, s):\n",
        "      batch_size = w.size(0)\n",
        "      z = self.bdist.sample((batch_size,))\n",
        "      ans = []\n",
        "      for i in range(batch_size):\n",
        "        mix_dist = Normal(mu[i], s[i])\n",
        "        def f(x):\n",
        "          x = torch.tensor(x, device=device).repeat(self.k2)\n",
        "          # print('w[i]:', w[i].shape, 'x:', x.shape, 'cdf:', mix_dist.cdf(x).shape)\n",
        "          return w[i].dot(mix_dist.cdf(x)) - z[i]\n",
        "        ans.append(bisect(f, -20, 20))\n",
        "      return torch.tensor(ans, device=device)\n",
        "\n",
        "    def sample(self, n_samples, h, w):\n",
        "      sampled = torch.zeros((n_samples, h, w), device=device)\n",
        "      for h_ in trange(h, desc='sampling'):\n",
        "        for w_ in range(w):\n",
        "          mu, log_s, log_w = torch.chunk(self.pixel_cnn(sampled.unsqueeze(1))[:, :, h_, w_], 3, dim=1)\n",
        "          sampled[:, h_, w_] = self.inverse(F.softmax(log_w, dim=1), mu, log_s.exp())\n",
        "      return torch.clip(sampled, 0, 1)\n",
        "\n",
        "                \n",
        "    def log_prob(self, x):\n",
        "        z, log_det = self.flow(x)\n",
        "        # print('z:', z.shape, z, sep='\\n')\n",
        "        # print('log_det:', log_det.shape, log_det, sep='\\n')\n",
        "        z = torch.clip(z, 0, 1)\n",
        "        return (self.bdist.log_prob(z) + log_det).mean(dim=(1, 2))\n",
        "\n",
        "    def nll(self, x):\n",
        "        return - self.log_prob(x).mean()"
      ],
      "execution_count": 10,
      "outputs": []
    },
    {
      "cell_type": "code",
      "metadata": {
        "id": "eNy-dYD4RfH5"
      },
      "source": [
        "PARAMS = {\n",
        "    'num_epochs':10, \n",
        "    'lr':1e-3, \n",
        "    'batch_size':128\n",
        "}"
      ],
      "execution_count": 11,
      "outputs": []
    },
    {
      "cell_type": "code",
      "metadata": {
        "id": "1KiCSk4rdXbk"
      },
      "source": [
        "def dequantize(x, quants=2):\n",
        "  x = x.float()\n",
        "  x = x + torch.rand_like(x)\n",
        "  x = x / quants\n",
        "  return x"
      ],
      "execution_count": 12,
      "outputs": []
    },
    {
      "cell_type": "code",
      "metadata": {
        "id": "wtFZU2ymB6_t"
      },
      "source": [
        "def q1(train_data, test_data):\n",
        "  \"\"\"\n",
        "  train_data: A (n_train, H, W, 1) uint8 numpy array of binary images with values in {0, 1}\n",
        "  test_data: A (n_test, H, W, 1) uint8 numpy array of binary images with values in {0, 1}\n",
        "  H = W = 20\n",
        "  Note that you should dequantize your train and test data, your dequantized pixels should all lie in [0,1]\n",
        "\n",
        "  Returns\n",
        "  - a (# of training iterations,) numpy array of train_losses evaluated every minibatch\n",
        "  - a (# of epochs + 1,) numpy array of test_losses evaluated once at initialization and after each epoch\n",
        "  - a numpy array of size (100, H, W, 1) of samples with values in [0, 1], where [0,0.5] represents a black pixel\n",
        "      and [0.5,1] represents a white pixel. We will show your samples with and without noise. \n",
        "  \"\"\"\n",
        "  \n",
        "  _, h, w, _ = train_data.shape\n",
        "  train_data = dequantize(torch.tensor(train_data.squeeze(3)).unsqueeze(1))\n",
        "  test_data = dequantize(torch.tensor(test_data.squeeze(3)).unsqueeze(1))\n",
        "  model = ARFlow(n_blocks=8, in_channels=1, n_channels=120, k2=5)\n",
        "\n",
        "  # train\n",
        "  train_losses, test_losses = model.fit(train_data, test_data, **PARAMS)\n",
        "  sampled = model.sample(100, h, w)\n",
        "  # plt.plot(train_losses, label='train')\n",
        "  # plt.plot(test_losses, label='test')\n",
        "  # plt.show()\n",
        "\n",
        "  return train_losses, test_losses , sampled.unsqueeze(3).cpu().numpy()\n"
      ],
      "execution_count": 13,
      "outputs": []
    },
    {
      "cell_type": "markdown",
      "metadata": {
        "id": "Iso12bj4Tup8"
      },
      "source": [
        "### Results\n",
        "\n",
        "Once you've implemented `q1`, execute the cells below to visualize and save your results\n",
        "\n"
      ]
    },
    {
      "cell_type": "code",
      "metadata": {
        "id": "njfGrZ74Jm2d",
        "colab": {
          "base_uri": "https://localhost:8080/"
        },
        "outputId": "58c19724-035f-495a-c349-d5565a56f73f"
      },
      "source": [
        "q1_save_results(q1)"
      ],
      "execution_count": null,
      "outputs": [
        {
          "output_type": "stream",
          "name": "stderr",
          "text": [
            "training: 100%|██████████| 10/10 [04:27<00:00, 26.75s/it]\n",
            "sampling:  25%|██▌       | 5/20 [03:32<10:37, 42.53s/it]"
          ]
        }
      ]
    },
    {
      "cell_type": "code",
      "metadata": {
        "id": "-VnEz9O7g_-q"
      },
      "source": [
        ""
      ],
      "execution_count": null,
      "outputs": []
    }
  ]
}