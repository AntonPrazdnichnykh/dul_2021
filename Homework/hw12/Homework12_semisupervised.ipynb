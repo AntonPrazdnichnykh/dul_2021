{
  "nbformat": 4,
  "nbformat_minor": 0,
  "metadata": {
    "colab": {
      "name": "Homework12_semisupervised.ipynb",
      "provenance": [],
      "collapsed_sections": [],
      "include_colab_link": true
    },
    "kernelspec": {
      "name": "python3",
      "display_name": "Python 3"
    },
    "language_info": {
      "name": "python"
    },
    "accelerator": "GPU"
  },
  "cells": [
    {
      "cell_type": "markdown",
      "metadata": {
        "id": "view-in-github",
        "colab_type": "text"
      },
      "source": [
        "<a href=\"https://colab.research.google.com/github/AntonPrazdnichnykh/dul_2021/blob/hw12/Homework/hw12/Homework12_semisupervised.ipynb\" target=\"_parent\"><img src=\"https://colab.research.google.com/assets/colab-badge.svg\" alt=\"Open In Colab\"/></a>"
      ]
    },
    {
      "cell_type": "code",
      "source": [
        "!if [ -d dul_2021 ]; then rm -Rf dul_2021; fi\n",
        "!git clone https://github.com/GrigoryBartosh/dul_2021\n",
        "!pip install ./dul_2021"
      ],
      "metadata": {
        "id": "vEPPrGksax7-",
        "outputId": "36ee0f39-f831-46be-9a1a-8d6794ec0c4c",
        "colab": {
          "base_uri": "https://localhost:8080/"
        }
      },
      "execution_count": 1,
      "outputs": [
        {
          "output_type": "stream",
          "name": "stdout",
          "text": [
            "Cloning into 'dul_2021'...\n",
            "remote: Enumerating objects: 384, done.\u001b[K\n",
            "remote: Counting objects: 100% (221/221), done.\u001b[K\n",
            "remote: Compressing objects: 100% (147/147), done.\u001b[K\n",
            "remote: Total 384 (delta 124), reused 100 (delta 67), pack-reused 163\u001b[K\n",
            "Receiving objects: 100% (384/384), 55.90 MiB | 14.50 MiB/s, done.\n",
            "Resolving deltas: 100% (181/181), done.\n",
            "Processing ./dul_2021\n",
            "\u001b[33m  DEPRECATION: A future pip version will change local packages to be built in-place without first copying to a temporary directory. We recommend you use --use-feature=in-tree-build to test your packages with this new behavior before it becomes the default.\n",
            "   pip 21.3 will remove support for this functionality. You can find discussion regarding this at https://github.com/pypa/pip/issues/7555.\u001b[0m\n",
            "Building wheels for collected packages: dul-2021\n",
            "  Building wheel for dul-2021 (setup.py) ... \u001b[?25l\u001b[?25hdone\n",
            "  Created wheel for dul-2021: filename=dul_2021-0.1.0-py3-none-any.whl size=27640 sha256=43f25cdc93a39240a837803907f41613b41a20dae96ba95f4e6d9e16a321cbae\n",
            "  Stored in directory: /tmp/pip-ephem-wheel-cache-lcrhnmfi/wheels/55/59/29/0fb1c635652157734f4d741f32fc11979149684e83e919de06\n",
            "Successfully built dul-2021\n",
            "Installing collected packages: dul-2021\n",
            "Successfully installed dul-2021-0.1.0\n"
          ]
        }
      ]
    },
    {
      "cell_type": "code",
      "source": [
        "from dul_2021.utils.hw12_utils import *"
      ],
      "metadata": {
        "id": "VUu3B_L7azpr"
      },
      "execution_count": 9,
      "outputs": []
    },
    {
      "cell_type": "code",
      "source": [
        "import torch\n",
        "from torch import nn\n",
        "import torch.nn.functional as F\n",
        "from torch.utils.data import DataLoader\n",
        "from torch.optim import Adam\n",
        "\n",
        "import numpy as np\n",
        "from tqdm import trange"
      ],
      "metadata": {
        "id": "RQWYgIUNnDnD"
      },
      "execution_count": 10,
      "outputs": []
    },
    {
      "cell_type": "code",
      "source": [
        "device = torch.device('cuda' if torch.cuda.is_available() else 'cpu')"
      ],
      "metadata": {
        "id": "FsyHWSG8ow80"
      },
      "execution_count": 11,
      "outputs": []
    },
    {
      "cell_type": "code",
      "source": [
        "device"
      ],
      "metadata": {
        "id": "1Z_4e5nxtCQj",
        "outputId": "0227b21c-d53d-4e72-cbcd-3609bf4fbacb",
        "colab": {
          "base_uri": "https://localhost:8080/"
        }
      },
      "execution_count": 12,
      "outputs": [
        {
          "output_type": "execute_result",
          "data": {
            "text/plain": [
              "device(type='cuda')"
            ]
          },
          "metadata": {},
          "execution_count": 12
        }
      ]
    },
    {
      "cell_type": "markdown",
      "source": [
        "# Question 1. VAT\n",
        "\n",
        "Here we will implement [VAT](https://arxiv.org/pdf/1704.03976.pdf).\n",
        "\n",
        "* Train labeled data with standatd cross-entropy loss\n",
        "\n",
        "* Use vat regularization for both unlabeled and labeled data\n",
        "\n",
        "* You can use architecture from practice\n",
        "\n",
        "* Dataset comes as pairs `x, y`. `x` is an image from CIFAR10. `y` is a label from `[0, 10]` if datapoint is labeled and `-1` otherwise.\n",
        "\n",
        "**Hyperparameters**\n",
        "\n",
        "* ξ= 10 \n",
        "* lr = 5e-4\n",
        "* num_epochs = 15\n",
        "\n",
        "\n",
        "\n",
        "**You will provide the following deliverables**\n",
        "\n",
        "\n",
        "1. Over the course of training, record loss ber batch.\n",
        "2. After each epoch calculate accuracy on test data."
      ],
      "metadata": {
        "id": "qo4zHxLOv5rX"
      }
    },
    {
      "cell_type": "code",
      "source": [
        "class Net(nn.Module):\n",
        "    def __init__(self, out_dim=10, hid_dim_full=128):\n",
        "        super(Net, self).__init__()\n",
        "\n",
        "        self.conv1 = nn.Conv2d(3, 16, 5, padding=2)\n",
        "        self.conv2 = nn.Conv2d(16, 16, 3, padding=1, stride=2)\n",
        "        self.conv3 = nn.Conv2d(16, 32, 5, padding=2)\n",
        "        self.conv4 = nn.Conv2d(32, 32, 3, padding=1, stride=2)\n",
        "        self.conv5 = nn.Conv2d(32, 32, 1)\n",
        "        self.conv6 = nn.Conv2d(32, 4, 1)\n",
        "\n",
        "        self.conv_to_fc = 8 * 8 * 4\n",
        "        self.fc1 = nn.Linear(self.conv_to_fc, hid_dim_full)\n",
        "        self.fc2 = nn.Linear(hid_dim_full, hid_dim_full)\n",
        "\n",
        "        self.features = nn.Linear(hid_dim_full, out_dim)\n",
        "\n",
        "\n",
        "    def forward(self, x):\n",
        "\n",
        "        x = F.relu(self.conv1(x))\n",
        "        x = F.relu(self.conv2(x))\n",
        "        x = F.relu(self.conv3(x))\n",
        "        x = F.relu(self.conv4(x))\n",
        "        x = F.relu(self.conv5(x))\n",
        "        x = F.relu(self.conv6(x))\n",
        "\n",
        "        x = x.view(-1, self.conv_to_fc)\n",
        "        x = F.relu(self.fc1(x))\n",
        "        x = F.relu(self.fc2(x))\n",
        "\n",
        "        return self.features(x)"
      ],
      "metadata": {
        "id": "BtAyCPNQnPtF"
      },
      "execution_count": 13,
      "outputs": []
    },
    {
      "cell_type": "code",
      "source": [
        "class VAT(nn.Module):\n",
        "  def __init__(self, n_classes=10, hidden_dim=128, xi=10, reg=1):\n",
        "    super().__init__()\n",
        "    self.net = Net(n_classes, hidden_dim)\n",
        "    self.xi = xi\n",
        "    self.reg = reg\n",
        "\n",
        "  def pertrubation(self, batch):\n",
        "    d = F.normalize(torch.randn_like(batch), dim=(1, 2, 3))\n",
        "    return self.xi * d\n",
        "\n",
        "  def predict_log_proba(self, batch):\n",
        "    return F.log_softmax(self.net(batch), dim=1)\n",
        "\n",
        "  def vat_reg(self, batch):\n",
        "    with torch.no_grad():\n",
        "            log_target = self.predict_log_proba(batch)\n",
        "    \n",
        "    r = self.pertrubation(batch)\n",
        "    r.requires_grad = True\n",
        "    log_probs = self.predict_log_proba(batch + r)\n",
        "\n",
        "    adv_dist = F.kl_div(log_probs, log_target, reduction='batchmean', log_target=True)\n",
        "        \n",
        "    adv_dist.backward()\n",
        "    r_adv = F.normalize(r.grad, dim=(1,2,3))\n",
        "    self.net.zero_grad()\n",
        "  \n",
        "    log_probs = self.predict_log_proba(batch + r_adv)\n",
        "    return F.kl_div(log_probs, log_target, reduction='batchmean', log_target=True)\n",
        "\n",
        "  def loss(self, x, labels):\n",
        "    mask = labels != -1\n",
        "    pred = self.net(x[mask])\n",
        "\n",
        "    loss_labeled = F.cross_entropy(pred, labels[mask])\n",
        "    loss_vat = self.vat_reg(x)\n",
        "\n",
        "    return loss_labeled + self.reg * loss_vat\n",
        "\n",
        "  @torch.no_grad()\n",
        "  def test(self, test_dataloader):\n",
        "    acc = 0\n",
        "    n_samples = 0\n",
        "    for batch, label in test_dataloader:\n",
        "      batch, label = batch.to(device), label.to(device)\n",
        "      preds = self.net(batch)\n",
        "      acc += (preds.argmax(dim=1) == label).sum().item()\n",
        "      n_samples += batch.shape[0]\n",
        "    return acc / n_samples\n",
        "\n",
        "  def fit(self, train_data, test_data, batch_size=512, lr=5e-4, num_epochs=15):\n",
        "      train_dataloader = DataLoader(train_data, batch_size=batch_size, shuffle=True)\n",
        "      test_dataloader = DataLoader(test_data, batch_size=batch_size, shuffle=False)\n",
        "\n",
        "      optimizer = Adam(self.net.parameters(), lr=lr)\n",
        "\n",
        "      losses = []\n",
        "      accs = []\n",
        "\n",
        "      for epoch in trange(num_epochs, desc='Training'):\n",
        "        for batch, label in train_dataloader:\n",
        "          batch, label = batch.to(device), label.to(device)\n",
        "          loss = self.loss(batch, label)\n",
        "          optimizer.zero_grad()\n",
        "          loss.backward()\n",
        "          optimizer.step()\n",
        "\n",
        "          losses.append(loss.item())\n",
        "\n",
        "        accs.append(self.test(test_dataloader))\n",
        "        \n",
        "\n",
        "      return np.array(losses), np.array(accs)"
      ],
      "metadata": {
        "id": "lVZOc958nlNM"
      },
      "execution_count": 24,
      "outputs": []
    },
    {
      "cell_type": "code",
      "source": [
        "def q1(train_data, test_data):\n",
        "    \"\"\"\n",
        "    train_data: An (n_train, 3, 32, 32) torchvision dataset of CIFAR10 images with values from -1 to 1\n",
        "\n",
        "    Returns\n",
        "    - a (# of training iterations, ) numpy array  losses on each iteration\n",
        "    - a (# of training epochs, ) numpy array accuracies on each epoch\n",
        "    \"\"\"\n",
        "    model = VAT()\n",
        "    model.to(device)\n",
        "    losses, accs = model.fit(train_data, test_data)\n",
        "    return losses, accs"
      ],
      "metadata": {
        "id": "v3neKPxpZImJ"
      },
      "execution_count": 25,
      "outputs": []
    },
    {
      "cell_type": "code",
      "source": [
        "q12_results(q1)"
      ],
      "metadata": {
        "colab": {
          "base_uri": "https://localhost:8080/",
          "height": 625
        },
        "id": "saxnnzOCzkMx",
        "outputId": "cf20c7a8-a769-4c0f-d331-bd0675d92f61"
      },
      "execution_count": 26,
      "outputs": [
        {
          "output_type": "stream",
          "name": "stdout",
          "text": [
            "Files already downloaded and verified\n",
            "Files already downloaded and verified\n"
          ]
        },
        {
          "output_type": "stream",
          "name": "stderr",
          "text": [
            "Training: 100%|██████████| 15/15 [06:18<00:00, 25.23s/it]\n"
          ]
        },
        {
          "output_type": "display_data",
          "data": {
            "image/png": "[encoded data removed]",
            "text/plain": [
              "<Figure size 432x288 with 1 Axes>"
            ]
          },
          "metadata": {
            "needs_background": "light"
          }
        },
        {
          "output_type": "display_data",
          "data": {
            "image/png": "[encoded data removed]",
            "text/plain": [
              "<Figure size 432x288 with 1 Axes>"
            ]
          },
          "metadata": {
            "needs_background": "light"
          }
        }
      ]
    },
    {
      "cell_type": "markdown",
      "source": [
        "Возможно в тестовых данных есть неразмеченные примеры, а я это не учитываю в подсчете аккураси и из-за этого все плохо, но мне что-то лень переобучать ради этого"
      ],
      "metadata": {
        "id": "GwGndq7L5NVL"
      }
    },
    {
      "cell_type": "markdown",
      "source": [
        "# Question 2. FixMatch\n",
        "\n",
        "Here we will implement [FixMatch](https://arxiv.org/abs/2001.07685).\n",
        "\n",
        "* Calculate loss on weakly augmented labeled data with standatd cross-entropy loss\n",
        "\n",
        "* Calculate loss on strongly augmented unlabeled data with standatd cross-entropy loss with pseudo-lables\n",
        "\n",
        "* Use SimCLR transformations as strong and RandomHorizontalFlip as weak\n",
        "\n",
        "* You can use architecture from practice\n",
        "\n",
        "* Dataset comes as pairs `x, y`. `x` is an image from CIFAR10. `y` is a label from `[0, 10]` if datapoint is labeled and `-1` otherwise.\n",
        "\n",
        "**Hyperparameters**\n",
        "\n",
        "* τ = 0.7 \n",
        "* λ_u = 10 (weight of unlabeled loss)\n",
        "* lr = 5e-4\n",
        "* num_epochs ~ 20 or more\n",
        "\n",
        "\n",
        "\n",
        "**You will provide the following deliverables**\n",
        "\n",
        "\n",
        "1. Over the course of training, record loss ber batch.\n",
        "2. After each epoch calculate accuracy on test data."
      ],
      "metadata": {
        "id": "zxgc1UFd_cpi"
      }
    },
    {
      "cell_type": "code",
      "source": [
        "def q2(train_data, test_data):\n",
        "    \"\"\"\n",
        "    train_data: An (n_train, 3, 32, 32) torchvision dataset of CIFAR10 images with values from -1 to 1\n",
        "\n",
        "    Returns\n",
        "    - a (# of training iterations, ) numpy array  losses on each iteration\n",
        "    - a (# of training epochs, ) numpy array accuracies on each epoch\n",
        "    \"\"\""
      ],
      "metadata": {
        "id": "UZGq-KG9abw3"
      },
      "execution_count": null,
      "outputs": []
    },
    {
      "cell_type": "code",
      "source": [
        "q_results(q2)"
      ],
      "metadata": {
        "id": "ePG4-hS0abw_"
      },
      "execution_count": null,
      "outputs": []
    },
    {
      "cell_type": "code",
      "source": [
        ""
      ],
      "metadata": {
        "id": "mzVcaBqkdd6s"
      },
      "execution_count": null,
      "outputs": []
    },
    {
      "cell_type": "markdown",
      "source": [
        "# Bonus\n",
        "\n",
        "## The probabilistic model\n",
        "\n",
        "*(this is a short summary of the model presented in [\"Semi-supervised Learning with\n",
        "Deep Generative Models\"](https://arxiv.org/pdf/1406.5298.pdf))*\n",
        "\n",
        "In the semi-supervised setting, the generative model is a little more complicated than vanilla VAE. In particular, it incorporates a new variable $y$ that represents the class of a digit $x$.\n",
        "\n",
        "\\begin{align*}\n",
        "& p(x, y, z) = p(x \\mid y, z) p(z) p(y) \\\\\n",
        "& p(y) = Cat(y \\mid \\pi_0), \\pi_0 = (1/10, \\dots, 1/10) \\\\\n",
        "& p(z) = \\mathcal N(z \\mid 0, I) \\\\\n",
        "& p(x \\mid y, z) = \\prod_{i=1}^D p_i(y, z)^{x_i} (1 - p_i(y, z))^{1 - x_i}\n",
        "\\end{align*}\n",
        "\n",
        "## The first part of the objective\n",
        "\n",
        "Whenever we train a probabilistic model with partial observations, we interpret the unobserved variables as latent variables. Then we marginalize them. In this case, the loss function splits into two terms: one for observed variables (we denote the set of indices of observed labels $P$), another for unobserved.\n",
        "\n",
        "\\begin{equation}\n",
        "L(X, y) = \\sum_{i \\notin P} \\log p(x_i) + \\sum_{i \\in P} \\log p(x_i, y_i)\n",
        "\\end{equation}\n",
        "\n",
        "Again, we can't compute the exact values of marginal likelihoods and resort to variational lower bound on likelihood. To compute lower bounds, we define the following variational approximation:\n",
        "\n",
        "\\begin{align*}\n",
        "& q(y, z \\mid x) = q(y \\mid x) q(z \\mid y, x)\\\\\n",
        "& \\\\\n",
        "& q(y \\mid x) = Cat(y \\mid \\pi(x))\\\\\n",
        "& q(z \\mid y, x) = \\mathcal N(z \\mid \\mu_\\phi(x, y), \\operatorname{diag}\\sigma^2_\\phi(y, x))\n",
        "\\end{align*}\n",
        "\n",
        "Using the variational approximation, we will obtain two lower bounds.\n",
        "\n",
        "First, the ELBO for $\\log p(x_i, y_i)$ for the observed variables (this one is similar to ELBO of VAE).\n",
        "\n",
        "\\begin{equation}\n",
        "\\log p(x, y) = \\log \\mathbb E_{p(z)} p(x, y \\mid z) \\geq \\mathbb E_{q(z \\mid y, x)} \\log \\frac{p(x, y \\mid z) p(z)}{q(z \\mid y, x)}\n",
        "\\end{equation}\n",
        "\n",
        "Second, the ELBO for $\\log p(x_i)$ for the unobserved variables.\n",
        "\n",
        "\\begin{equation}\n",
        "\\log p(x) = \\log \\mathbb E_{p(y)} \\mathbb E_{p(z \\mid y)} \\log p(x\\mid z, y)\\geq \\mathbb E_{q(y \\mid x)} \\mathbb E_{q(z \\mid y, x)} \\log \\frac{p(x, y \\mid z) p(z)}{q(z \\mid y, x) q(y \\mid x)}\n",
        "\\end{equation}\n",
        "\n",
        "Finally, the joint lower bound will be\n",
        "\n",
        "\\begin{equation}\n",
        "\\mathcal L(X, y) = \\sum_{i \\in P} \\mathbb E_{q(z_i \\mid y_i, x_i)} \\log \\frac{p(x_i, y_i \\mid z_i) p(z_i)}{q(z_i \\mid y_i, x_i)} + \\sum_{i \\notin P} \\mathbb E_{q(y_i \\mid x_i)} \\mathbb E_{q(z_i \\mid y_i, x_i)} \\log \\frac{p(x_i, y_i \\mid z_i) p(z_i)}{q(z_i \\mid y_i, x_i) q(y_i \\mid x_i)}\n",
        "\\end{equation}\n",
        "\n",
        "We will use reparametrized Monte-Carlo estimates to approximate expectation w.r.t. $z$. To approximate expectaion w.r.t. the discrete variable $y$ we will try three different options."
      ],
      "metadata": {
        "id": "70Ckao5QSblC"
      }
    },
    {
      "cell_type": "code",
      "source": [
        "def b(train_data, test_data):\n",
        "    \"\"\"\n",
        "    train_data: An (n_train, 1, 28, 28) torchvision dataset of binary MNIST images\n",
        "    Returns\n",
        "    - a (# of training iterations, ) numpy array  losses on each iteration\n",
        "    - a (# of training epochs, ) numpy array accuracies on each epoch\n",
        "    \"\"\""
      ],
      "metadata": {
        "id": "opRfI5beScTp"
      },
      "execution_count": null,
      "outputs": []
    }
  ]
}